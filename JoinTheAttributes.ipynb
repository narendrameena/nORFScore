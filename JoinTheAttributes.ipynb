{
 "cells": [
  {
   "cell_type": "code",
   "execution_count": null,
   "metadata": {},
   "outputs": [],
   "source": [
    "#@author narumeena\n",
    "#@description join all datasets to a single dataframe"
   ]
  },
  {
   "cell_type": "code",
   "execution_count": 1,
   "metadata": {},
   "outputs": [],
   "source": [
    "\n",
    "#usr/bin/python\n",
    "import dask.dataframe as dd\n"
   ]
  },
  {
   "cell_type": "code",
   "execution_count": 2,
   "metadata": {},
   "outputs": [],
   "source": [
    "#hgmd\n",
    "\n",
    "dd.merge(dd.read_csv(\"../analysis/caddAnnotation/hgmd/GRCh38-v1.5_cadd_anno.tsv\",sep=\"\\t\",\n",
    "                              converters={i: str for i in range(250)}), \n",
    "                  dd.read_csv(\"../analysis/annovarAnnotation/hgmd/hgmd_annovar.hg38_multianno.csv\",sep=\",\",\n",
    "                              converters={i: str for i in range(250)}), how='left', on=['Chr', 'End', 'Ref','Alt']).compute().to_csv(\"../analysis/joinDataSets/hgmd/hgmd_cadd_annovar_annotation.tsv\", \n",
    "                                             sep='\\t', encoding='utf-8',index=False)\n",
    "\n",
    "\n",
    "\n",
    "\n",
    "\n",
    "\n",
    "\n",
    "\n",
    "\n",
    "\n"
   ]
  },
  {
   "cell_type": "code",
   "execution_count": 3,
   "metadata": {},
   "outputs": [],
   "source": [
    "#clinvar\n",
    "\n",
    "dd.merge(dd.read_csv(\"../analysis//caddAnnotation/clinvar/GRCh38-v1.5_cadd_anno.tsv\",sep=\"\\t\",\n",
    "                              converters={i: str for i in range(250)}), \n",
    "                  dd.read_csv(\"../analysis/annovarAnnotation/clinvar/clinvar_annovar.hg38_multianno.csv\",sep=\",\",\n",
    "                              converters={i: str for i in range(250)}), how='left', on=['Chr', 'End', 'Ref','Alt']).compute().to_csv(\"../analysis/joinDataSets/clinvar/clinvar_cadd_annovar_annotation.tsv\", \n",
    "                                             sep='\\t', encoding='utf-8',index=False)\n",
    "\n",
    "\n",
    "\n"
   ]
  },
  {
   "cell_type": "code",
   "execution_count": 4,
   "metadata": {},
   "outputs": [],
   "source": [
    "#humanDrive\n",
    "\n",
    "dd.merge(dd.read_csv(\"../analysis//caddAnnotation/humanDrive/GRCh38-v1.5_cadd_anno.tsv\",sep=\"\\t\",\n",
    "                              converters={i: str for i in range(250)}), \n",
    "                  dd.read_csv(\"../analysis/annovarAnnotation/humanDrive/human_Drive_annovar.hg38_multianno.csv\",sep=\",\",\n",
    "                              converters={i: str for i in range(250)}), how='left', on=['Chr', 'End', 'Ref','Alt']).compute().to_csv(\"../analysis/joinDataSets/humanDrive/human_Drive_cadd_annovar_annotation.tsv\", \n",
    "                                             sep='\\t', encoding='utf-8',index=False)\n",
    "\n"
   ]
  },
  {
   "cell_type": "code",
   "execution_count": 5,
   "metadata": {},
   "outputs": [],
   "source": [
    "\n",
    "##part:- 2 DM and Pthogenic only from clinvar and hgmd \n",
    "\n",
    "#hgmd \n",
    "\n",
    "dd.merge(dd.merge(dd.read_csv(\"../analysis/caddAnnotation/hgmd/GRCh38-v1.5_cadd_anno.tsv\",\n",
    "                                       sep=\"\\t\",converters={i: str for i in range(250)}), \n",
    "                           dd.read_csv(\"../analysis/annovarAnnotation/hgmd/hgmd_annovar.hg38_multianno.csv\",sep=\",\",\n",
    "                                       converters={i: str for i in range(250)}), how='left', on=['Chr', 'End', 'Ref','Alt']),\n",
    "         dd.read_csv(\"../analysis/variantsMappedOnnORFs/hgmd/hgmd_pathogenic_DM.vcf\",sep=\"\\t\",\n",
    "                     converters={i: str for i in range(250)}),how='inner',\n",
    "         on=['Chr', 'End', 'Ref','Alt']).compute().to_csv(\"../analysis/joinDataSets/hgmd/hgmd_cadd_annovar_pathogenic_only.tsv\", sep='\\t', encoding='utf-8',index=False)\n",
    "\n"
   ]
  },
  {
   "cell_type": "code",
   "execution_count": 6,
   "metadata": {},
   "outputs": [],
   "source": [
    "#clinvar \n",
    "dd.merge(dd.merge(dd.read_csv(\"../analysis/caddAnnotation/clinvar/GRCh38-v1.5_cadd_anno.tsv\",\n",
    "                                       sep=\"\\t\",converters={i: str for i in range(250)}), \n",
    "                           dd.read_csv(\"../analysis/annovarAnnotation/clinvar/clinvar_annovar.hg38_multianno.csv\",sep=\",\",\n",
    "                                       converters={i: str for i in range(250)}), how='left', on=['Chr', 'End', 'Ref','Alt']),\n",
    "         dd.read_csv(\"../analysis/variantsMappedOnnORFs/clinvar/clivar_Pathogenic.vcf\",sep=\"\\t\",\n",
    "                     converters={i: str for i in range(250)}),how='inner',\n",
    "         on=['Chr', 'End', 'Ref','Alt']).compute().to_csv(\"../analysis/joinDataSets/clinvar/clinvar_cadd_annovar_pathogenic_only.tsv\", sep='\\t', encoding='utf-8',index=False)\n",
    "\n"
   ]
  },
  {
   "cell_type": "code",
   "execution_count": null,
   "metadata": {},
   "outputs": [],
   "source": []
  }
 ],
 "metadata": {
  "kernelspec": {
   "display_name": "Python 3",
   "language": "python",
   "name": "python3"
  },
  "language_info": {
   "codemirror_mode": {
    "name": "ipython",
    "version": 3
   },
   "file_extension": ".py",
   "mimetype": "text/x-python",
   "name": "python",
   "nbconvert_exporter": "python",
   "pygments_lexer": "ipython3",
   "version": "3.7.4"
  }
 },
 "nbformat": 4,
 "nbformat_minor": 2
}
