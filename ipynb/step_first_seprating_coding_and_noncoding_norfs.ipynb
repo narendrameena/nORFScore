{
 "cells": [
  {
   "cell_type": "code",
   "execution_count": 2,
   "metadata": {},
   "outputs": [
    {
     "output_type": "execute_result",
     "data": {
      "text/plain": "'\\n#@author narumeena\\n#@project norfScore\\n#@description seprating coding and noncoding norfs \\n##combine norfs files from matt and cera and seprate the norfs based on their annotation \\n\\n'"
     },
     "metadata": {},
     "execution_count": 2
    }
   ],
   "source": [
    "#!/usr/bin/env python3\n",
    "\n",
    "'''\n",
    "#@author narumeena\n",
    "#@project norfScore\n",
    "#@description seprating coding and noncoding norfs \n",
    "##combine norfs files from matt and cera and seprate the norfs based on their annotation \n",
    "\n",
    "'''"
   ]
  },
  {
   "cell_type": "code",
   "execution_count": 3,
   "metadata": {},
   "outputs": [],
   "source": [
    "import pandas as pd "
   ]
  },
  {
   "cell_type": "markdown",
   "metadata": {},
   "source": [
    "# Data from matt"
   ]
  },
  {
   "cell_type": "markdown",
   "metadata": {},
   "source": [
    "matt provided the files in bed format. he also provided the norfs \\\n",
    "categrizatio for of \n",
    "norfs if its coming from coding regions \n",
    "and nong coding regions "
   ]
  },
  {
   "cell_type": "code",
   "execution_count": 4,
   "metadata": {},
   "outputs": [],
   "source": [
    "norf_class_matt = pd.read_csv('../../data/input/nORF/nORFsFromMatt/nORFclassification.tsv.gz', compression='gzip', \n",
    "                         sep='\\t', error_bad_lines=False)"
   ]
  },
  {
   "cell_type": "code",
   "execution_count": 5,
   "metadata": {},
   "outputs": [
    {
     "output_type": "execute_result",
     "data": {
      "text/plain": "  novelORF_ID    transcript_ID       transcriptBiotype ORFannotation  inFrame  \\\n0      001aH1  ENST00000457540  unprocessed_pseudogene    pseudogene    False   \n1      001bH1  ENST00000457540  unprocessed_pseudogene    pseudogene    False   \n2      002kH1  ENST00000414273  unprocessed_pseudogene    pseudogene    False   \n3      002kH2  ENST00000414273  unprocessed_pseudogene    pseudogene    False   \n4      002nH1  ENST00000414273  unprocessed_pseudogene    pseudogene    False   \n\n   codingRegion  \n0         False  \n1         False  \n2         False  \n3         False  \n4         False  ",
      "text/html": "<div>\n<style scoped>\n    .dataframe tbody tr th:only-of-type {\n        vertical-align: middle;\n    }\n\n    .dataframe tbody tr th {\n        vertical-align: top;\n    }\n\n    .dataframe thead th {\n        text-align: right;\n    }\n</style>\n<table border=\"1\" class=\"dataframe\">\n  <thead>\n    <tr style=\"text-align: right;\">\n      <th></th>\n      <th>novelORF_ID</th>\n      <th>transcript_ID</th>\n      <th>transcriptBiotype</th>\n      <th>ORFannotation</th>\n      <th>inFrame</th>\n      <th>codingRegion</th>\n    </tr>\n  </thead>\n  <tbody>\n    <tr>\n      <th>0</th>\n      <td>001aH1</td>\n      <td>ENST00000457540</td>\n      <td>unprocessed_pseudogene</td>\n      <td>pseudogene</td>\n      <td>False</td>\n      <td>False</td>\n    </tr>\n    <tr>\n      <th>1</th>\n      <td>001bH1</td>\n      <td>ENST00000457540</td>\n      <td>unprocessed_pseudogene</td>\n      <td>pseudogene</td>\n      <td>False</td>\n      <td>False</td>\n    </tr>\n    <tr>\n      <th>2</th>\n      <td>002kH1</td>\n      <td>ENST00000414273</td>\n      <td>unprocessed_pseudogene</td>\n      <td>pseudogene</td>\n      <td>False</td>\n      <td>False</td>\n    </tr>\n    <tr>\n      <th>3</th>\n      <td>002kH2</td>\n      <td>ENST00000414273</td>\n      <td>unprocessed_pseudogene</td>\n      <td>pseudogene</td>\n      <td>False</td>\n      <td>False</td>\n    </tr>\n    <tr>\n      <th>4</th>\n      <td>002nH1</td>\n      <td>ENST00000414273</td>\n      <td>unprocessed_pseudogene</td>\n      <td>pseudogene</td>\n      <td>False</td>\n      <td>False</td>\n    </tr>\n  </tbody>\n</table>\n</div>"
     },
     "metadata": {},
     "execution_count": 5
    }
   ],
   "source": [
    "norf_class_matt.head()"
   ]
  },
  {
   "cell_type": "code",
   "execution_count": 147,
   "metadata": {},
   "outputs": [
    {
     "data": {
      "text/plain": [
       "(233021, 6)"
      ]
     },
     "execution_count": 147,
     "metadata": {},
     "output_type": "execute_result"
    }
   ],
   "source": [
    "norf_class_matt.shape"
   ]
  },
  {
   "cell_type": "code",
   "execution_count": null,
   "metadata": {},
   "outputs": [],
   "source": []
  },
  {
   "cell_type": "markdown",
   "metadata": {},
   "source": [
    "# Data from cera"
   ]
  },
  {
   "cell_type": "markdown",
   "metadata": {},
   "source": [
    "cera added few more norfs that are included in total norfs "
   ]
  },
  {
   "cell_type": "code",
   "execution_count": 148,
   "metadata": {},
   "outputs": [],
   "source": [
    "norf_class_cera = pd.read_csv('../../data/input/nORF/nORFsFromCera/ribORFclassification.tsv.gz', compression='gzip', \n",
    "                         sep='\\t', error_bad_lines=False)"
   ]
  },
  {
   "cell_type": "code",
   "execution_count": 149,
   "metadata": {},
   "outputs": [
    {
     "data": {
      "text/html": [
       "<div>\n",
       "<style scoped>\n",
       "    .dataframe tbody tr th:only-of-type {\n",
       "        vertical-align: middle;\n",
       "    }\n",
       "\n",
       "    .dataframe tbody tr th {\n",
       "        vertical-align: top;\n",
       "    }\n",
       "\n",
       "    .dataframe thead th {\n",
       "        text-align: right;\n",
       "    }\n",
       "</style>\n",
       "<table border=\"1\" class=\"dataframe\">\n",
       "  <thead>\n",
       "    <tr style=\"text-align: right;\">\n",
       "      <th></th>\n",
       "      <th>novelORF_ID</th>\n",
       "      <th>transcript_ID</th>\n",
       "      <th>transcriptBiotype</th>\n",
       "      <th>ORFannotation</th>\n",
       "      <th>inFrame</th>\n",
       "      <th>codingRegion</th>\n",
       "    </tr>\n",
       "  </thead>\n",
       "  <tbody>\n",
       "    <tr>\n",
       "      <th>0</th>\n",
       "      <td>tracer1</td>\n",
       "      <td>ENST00000488147</td>\n",
       "      <td>unprocessed_pseudogene</td>\n",
       "      <td>pseudogene</td>\n",
       "      <td>False</td>\n",
       "      <td>False</td>\n",
       "    </tr>\n",
       "    <tr>\n",
       "      <th>1</th>\n",
       "      <td>tracer10</td>\n",
       "      <td>ENST00000414273</td>\n",
       "      <td>unprocessed_pseudogene</td>\n",
       "      <td>pseudogene</td>\n",
       "      <td>False</td>\n",
       "      <td>False</td>\n",
       "    </tr>\n",
       "    <tr>\n",
       "      <th>2</th>\n",
       "      <td>tracer100</td>\n",
       "      <td>ENST00000477894</td>\n",
       "      <td>nonsense_mediated_decay</td>\n",
       "      <td>nmd</td>\n",
       "      <td>True</td>\n",
       "      <td>True</td>\n",
       "    </tr>\n",
       "    <tr>\n",
       "      <th>3</th>\n",
       "      <td>tracer1000</td>\n",
       "      <td>ENST00000376804</td>\n",
       "      <td>protein_coding</td>\n",
       "      <td>cds</td>\n",
       "      <td>True</td>\n",
       "      <td>True</td>\n",
       "    </tr>\n",
       "    <tr>\n",
       "      <th>4</th>\n",
       "      <td>tracer10000</td>\n",
       "      <td>ENST00000430210</td>\n",
       "      <td>unprocessed_pseudogene</td>\n",
       "      <td>pseudogene</td>\n",
       "      <td>False</td>\n",
       "      <td>False</td>\n",
       "    </tr>\n",
       "  </tbody>\n",
       "</table>\n",
       "</div>"
      ],
      "text/plain": [
       "   novelORF_ID    transcript_ID        transcriptBiotype ORFannotation  \\\n",
       "0      tracer1  ENST00000488147   unprocessed_pseudogene    pseudogene   \n",
       "1     tracer10  ENST00000414273   unprocessed_pseudogene    pseudogene   \n",
       "2    tracer100  ENST00000477894  nonsense_mediated_decay           nmd   \n",
       "3   tracer1000  ENST00000376804           protein_coding           cds   \n",
       "4  tracer10000  ENST00000430210   unprocessed_pseudogene    pseudogene   \n",
       "\n",
       "   inFrame  codingRegion  \n",
       "0    False         False  \n",
       "1    False         False  \n",
       "2     True          True  \n",
       "3     True          True  \n",
       "4    False         False  "
      ]
     },
     "execution_count": 149,
     "metadata": {},
     "output_type": "execute_result"
    }
   ],
   "source": [
    "norf_class_cera.head()"
   ]
  },
  {
   "cell_type": "code",
   "execution_count": 150,
   "metadata": {},
   "outputs": [
    {
     "data": {
      "text/plain": [
       "(111250, 6)"
      ]
     },
     "execution_count": 150,
     "metadata": {},
     "output_type": "execute_result"
    }
   ],
   "source": [
    "norf_class_cera.shape"
   ]
  },
  {
   "cell_type": "markdown",
   "metadata": {},
   "source": [
    "# combine all norfs classess "
   ]
  },
  {
   "cell_type": "code",
   "execution_count": 151,
   "metadata": {},
   "outputs": [],
   "source": [
    "norf_class = pd.concat([norf_class_matt,norf_class_cera], ignore_index=True).drop_duplicates()"
   ]
  },
  {
   "cell_type": "code",
   "execution_count": 152,
   "metadata": {},
   "outputs": [
    {
     "data": {
      "text/html": [
       "<div>\n",
       "<style scoped>\n",
       "    .dataframe tbody tr th:only-of-type {\n",
       "        vertical-align: middle;\n",
       "    }\n",
       "\n",
       "    .dataframe tbody tr th {\n",
       "        vertical-align: top;\n",
       "    }\n",
       "\n",
       "    .dataframe thead th {\n",
       "        text-align: right;\n",
       "    }\n",
       "</style>\n",
       "<table border=\"1\" class=\"dataframe\">\n",
       "  <thead>\n",
       "    <tr style=\"text-align: right;\">\n",
       "      <th></th>\n",
       "      <th>novelORF_ID</th>\n",
       "      <th>transcript_ID</th>\n",
       "      <th>transcriptBiotype</th>\n",
       "      <th>ORFannotation</th>\n",
       "      <th>inFrame</th>\n",
       "      <th>codingRegion</th>\n",
       "    </tr>\n",
       "  </thead>\n",
       "  <tbody>\n",
       "    <tr>\n",
       "      <th>0</th>\n",
       "      <td>001aH1</td>\n",
       "      <td>ENST00000457540</td>\n",
       "      <td>unprocessed_pseudogene</td>\n",
       "      <td>pseudogene</td>\n",
       "      <td>False</td>\n",
       "      <td>False</td>\n",
       "    </tr>\n",
       "    <tr>\n",
       "      <th>1</th>\n",
       "      <td>001bH1</td>\n",
       "      <td>ENST00000457540</td>\n",
       "      <td>unprocessed_pseudogene</td>\n",
       "      <td>pseudogene</td>\n",
       "      <td>False</td>\n",
       "      <td>False</td>\n",
       "    </tr>\n",
       "    <tr>\n",
       "      <th>2</th>\n",
       "      <td>002kH1</td>\n",
       "      <td>ENST00000414273</td>\n",
       "      <td>unprocessed_pseudogene</td>\n",
       "      <td>pseudogene</td>\n",
       "      <td>False</td>\n",
       "      <td>False</td>\n",
       "    </tr>\n",
       "    <tr>\n",
       "      <th>3</th>\n",
       "      <td>002kH2</td>\n",
       "      <td>ENST00000414273</td>\n",
       "      <td>unprocessed_pseudogene</td>\n",
       "      <td>pseudogene</td>\n",
       "      <td>False</td>\n",
       "      <td>False</td>\n",
       "    </tr>\n",
       "    <tr>\n",
       "      <th>4</th>\n",
       "      <td>002nH1</td>\n",
       "      <td>ENST00000414273</td>\n",
       "      <td>unprocessed_pseudogene</td>\n",
       "      <td>pseudogene</td>\n",
       "      <td>False</td>\n",
       "      <td>False</td>\n",
       "    </tr>\n",
       "  </tbody>\n",
       "</table>\n",
       "</div>"
      ],
      "text/plain": [
       "  novelORF_ID    transcript_ID       transcriptBiotype ORFannotation  inFrame  \\\n",
       "0      001aH1  ENST00000457540  unprocessed_pseudogene    pseudogene    False   \n",
       "1      001bH1  ENST00000457540  unprocessed_pseudogene    pseudogene    False   \n",
       "2      002kH1  ENST00000414273  unprocessed_pseudogene    pseudogene    False   \n",
       "3      002kH2  ENST00000414273  unprocessed_pseudogene    pseudogene    False   \n",
       "4      002nH1  ENST00000414273  unprocessed_pseudogene    pseudogene    False   \n",
       "\n",
       "   codingRegion  \n",
       "0         False  \n",
       "1         False  \n",
       "2         False  \n",
       "3         False  \n",
       "4         False  "
      ]
     },
     "execution_count": 152,
     "metadata": {},
     "output_type": "execute_result"
    }
   ],
   "source": [
    "norf_class.head()"
   ]
  },
  {
   "cell_type": "code",
   "execution_count": 153,
   "metadata": {},
   "outputs": [
    {
     "data": {
      "text/plain": [
       "(344271, 6)"
      ]
     },
     "execution_count": 153,
     "metadata": {},
     "output_type": "execute_result"
    }
   ],
   "source": [
    "norf_class.shape"
   ]
  },
  {
   "cell_type": "markdown",
   "metadata": {},
   "source": [
    "# norfs bed file "
   ]
  },
  {
   "cell_type": "code",
   "execution_count": 154,
   "metadata": {},
   "outputs": [
    {
     "name": "stderr",
     "output_type": "stream",
     "text": [
      "/home/narumeena/anaconda3/lib/python3.7/site-packages/IPython/core/interactiveshell.py:3058: DtypeWarning: Columns (0) have mixed types.Specify dtype option on import or set low_memory=False.\n",
      "  interactivity=interactivity, compiler=compiler, result=result)\n"
     ]
    }
   ],
   "source": [
    "norf_bed_file = pd.read_csv('../../data/input/nORF/nORF_db_v2_without_chr.bed.gz', compression='gzip', header= None,\n",
    "                         sep='\\t', error_bad_lines=False, names=['chr','start','end','novelORF_ID','score','strand'])"
   ]
  },
  {
   "cell_type": "code",
   "execution_count": 155,
   "metadata": {},
   "outputs": [
    {
     "data": {
      "text/html": [
       "<div>\n",
       "<style scoped>\n",
       "    .dataframe tbody tr th:only-of-type {\n",
       "        vertical-align: middle;\n",
       "    }\n",
       "\n",
       "    .dataframe tbody tr th {\n",
       "        vertical-align: top;\n",
       "    }\n",
       "\n",
       "    .dataframe thead th {\n",
       "        text-align: right;\n",
       "    }\n",
       "</style>\n",
       "<table border=\"1\" class=\"dataframe\">\n",
       "  <thead>\n",
       "    <tr style=\"text-align: right;\">\n",
       "      <th></th>\n",
       "      <th>chr</th>\n",
       "      <th>start</th>\n",
       "      <th>end</th>\n",
       "      <th>novelORF_ID</th>\n",
       "      <th>score</th>\n",
       "      <th>strand</th>\n",
       "    </tr>\n",
       "  </thead>\n",
       "  <tbody>\n",
       "    <tr>\n",
       "      <th>0</th>\n",
       "      <td>1</td>\n",
       "      <td>92108</td>\n",
       "      <td>92231</td>\n",
       "      <td>1ig9H1</td>\n",
       "      <td>0</td>\n",
       "      <td>-</td>\n",
       "    </tr>\n",
       "    <tr>\n",
       "      <th>1</th>\n",
       "      <td>1</td>\n",
       "      <td>268684</td>\n",
       "      <td>268807</td>\n",
       "      <td>1iggH1</td>\n",
       "      <td>0</td>\n",
       "      <td>-</td>\n",
       "    </tr>\n",
       "    <tr>\n",
       "      <th>2</th>\n",
       "      <td>1</td>\n",
       "      <td>485182</td>\n",
       "      <td>495306</td>\n",
       "      <td>1igvH2</td>\n",
       "      <td>0</td>\n",
       "      <td>-</td>\n",
       "    </tr>\n",
       "    <tr>\n",
       "      <th>3</th>\n",
       "      <td>1</td>\n",
       "      <td>629921</td>\n",
       "      <td>629981</td>\n",
       "      <td>001aH1</td>\n",
       "      <td>0</td>\n",
       "      <td>+</td>\n",
       "    </tr>\n",
       "    <tr>\n",
       "      <th>4</th>\n",
       "      <td>1</td>\n",
       "      <td>630008</td>\n",
       "      <td>630038</td>\n",
       "      <td>001bH1</td>\n",
       "      <td>0</td>\n",
       "      <td>+</td>\n",
       "    </tr>\n",
       "  </tbody>\n",
       "</table>\n",
       "</div>"
      ],
      "text/plain": [
       "  chr   start     end novelORF_ID  score strand\n",
       "0   1   92108   92231      1ig9H1      0      -\n",
       "1   1  268684  268807      1iggH1      0      -\n",
       "2   1  485182  495306      1igvH2      0      -\n",
       "3   1  629921  629981      001aH1      0      +\n",
       "4   1  630008  630038      001bH1      0      +"
      ]
     },
     "execution_count": 155,
     "metadata": {},
     "output_type": "execute_result"
    }
   ],
   "source": [
    "norf_bed_file.head()"
   ]
  },
  {
   "cell_type": "markdown",
   "metadata": {},
   "source": [
    "merge class and bed file using inner join"
   ]
  },
  {
   "cell_type": "code",
   "execution_count": 156,
   "metadata": {},
   "outputs": [],
   "source": [
    "norfs_with_class_annotation = pd.merge(left=norf_class, right=norf_bed_file, \n",
    "                                       left_on='novelORF_ID', right_on='novelORF_ID')"
   ]
  },
  {
   "cell_type": "code",
   "execution_count": 157,
   "metadata": {},
   "outputs": [
    {
     "data": {
      "text/html": [
       "<div>\n",
       "<style scoped>\n",
       "    .dataframe tbody tr th:only-of-type {\n",
       "        vertical-align: middle;\n",
       "    }\n",
       "\n",
       "    .dataframe tbody tr th {\n",
       "        vertical-align: top;\n",
       "    }\n",
       "\n",
       "    .dataframe thead th {\n",
       "        text-align: right;\n",
       "    }\n",
       "</style>\n",
       "<table border=\"1\" class=\"dataframe\">\n",
       "  <thead>\n",
       "    <tr style=\"text-align: right;\">\n",
       "      <th></th>\n",
       "      <th>novelORF_ID</th>\n",
       "      <th>transcript_ID</th>\n",
       "      <th>transcriptBiotype</th>\n",
       "      <th>ORFannotation</th>\n",
       "      <th>inFrame</th>\n",
       "      <th>codingRegion</th>\n",
       "      <th>chr</th>\n",
       "      <th>start</th>\n",
       "      <th>end</th>\n",
       "      <th>score</th>\n",
       "      <th>strand</th>\n",
       "    </tr>\n",
       "  </thead>\n",
       "  <tbody>\n",
       "    <tr>\n",
       "      <th>0</th>\n",
       "      <td>001aH1</td>\n",
       "      <td>ENST00000457540</td>\n",
       "      <td>unprocessed_pseudogene</td>\n",
       "      <td>pseudogene</td>\n",
       "      <td>False</td>\n",
       "      <td>False</td>\n",
       "      <td>1</td>\n",
       "      <td>629921</td>\n",
       "      <td>629981</td>\n",
       "      <td>0</td>\n",
       "      <td>+</td>\n",
       "    </tr>\n",
       "    <tr>\n",
       "      <th>1</th>\n",
       "      <td>001bH1</td>\n",
       "      <td>ENST00000457540</td>\n",
       "      <td>unprocessed_pseudogene</td>\n",
       "      <td>pseudogene</td>\n",
       "      <td>False</td>\n",
       "      <td>False</td>\n",
       "      <td>1</td>\n",
       "      <td>630008</td>\n",
       "      <td>630038</td>\n",
       "      <td>0</td>\n",
       "      <td>+</td>\n",
       "    </tr>\n",
       "    <tr>\n",
       "      <th>2</th>\n",
       "      <td>002kH1</td>\n",
       "      <td>ENST00000414273</td>\n",
       "      <td>unprocessed_pseudogene</td>\n",
       "      <td>pseudogene</td>\n",
       "      <td>False</td>\n",
       "      <td>False</td>\n",
       "      <td>1</td>\n",
       "      <td>631378</td>\n",
       "      <td>631582</td>\n",
       "      <td>0</td>\n",
       "      <td>+</td>\n",
       "    </tr>\n",
       "    <tr>\n",
       "      <th>3</th>\n",
       "      <td>002kH2</td>\n",
       "      <td>ENST00000414273</td>\n",
       "      <td>unprocessed_pseudogene</td>\n",
       "      <td>pseudogene</td>\n",
       "      <td>False</td>\n",
       "      <td>False</td>\n",
       "      <td>1</td>\n",
       "      <td>631406</td>\n",
       "      <td>631451</td>\n",
       "      <td>0</td>\n",
       "      <td>+</td>\n",
       "    </tr>\n",
       "    <tr>\n",
       "      <th>4</th>\n",
       "      <td>002nH1</td>\n",
       "      <td>ENST00000414273</td>\n",
       "      <td>unprocessed_pseudogene</td>\n",
       "      <td>pseudogene</td>\n",
       "      <td>False</td>\n",
       "      <td>False</td>\n",
       "      <td>1</td>\n",
       "      <td>632072</td>\n",
       "      <td>632615</td>\n",
       "      <td>0</td>\n",
       "      <td>+</td>\n",
       "    </tr>\n",
       "  </tbody>\n",
       "</table>\n",
       "</div>"
      ],
      "text/plain": [
       "  novelORF_ID    transcript_ID       transcriptBiotype ORFannotation  inFrame  \\\n",
       "0      001aH1  ENST00000457540  unprocessed_pseudogene    pseudogene    False   \n",
       "1      001bH1  ENST00000457540  unprocessed_pseudogene    pseudogene    False   \n",
       "2      002kH1  ENST00000414273  unprocessed_pseudogene    pseudogene    False   \n",
       "3      002kH2  ENST00000414273  unprocessed_pseudogene    pseudogene    False   \n",
       "4      002nH1  ENST00000414273  unprocessed_pseudogene    pseudogene    False   \n",
       "\n",
       "   codingRegion chr   start     end  score strand  \n",
       "0         False   1  629921  629981      0      +  \n",
       "1         False   1  630008  630038      0      +  \n",
       "2         False   1  631378  631582      0      +  \n",
       "3         False   1  631406  631451      0      +  \n",
       "4         False   1  632072  632615      0      +  "
      ]
     },
     "execution_count": 157,
     "metadata": {},
     "output_type": "execute_result"
    }
   ],
   "source": [
    "norfs_with_class_annotation.head()"
   ]
  },
  {
   "cell_type": "code",
   "execution_count": 158,
   "metadata": {},
   "outputs": [
    {
     "data": {
      "text/plain": [
       "(296009, 11)"
      ]
     },
     "execution_count": 158,
     "metadata": {},
     "output_type": "execute_result"
    }
   ],
   "source": [
    "norfs_with_class_annotation.shape"
   ]
  },
  {
   "cell_type": "markdown",
   "metadata": {},
   "source": [
    "# coding regions norfs "
   ]
  },
  {
   "cell_type": "code",
   "execution_count": 159,
   "metadata": {},
   "outputs": [],
   "source": [
    "coding_norfs = norfs_with_class_annotation.loc[norfs_with_class_annotation['codingRegion'] == True]"
   ]
  },
  {
   "cell_type": "code",
   "execution_count": 160,
   "metadata": {},
   "outputs": [
    {
     "data": {
      "text/html": [
       "<div>\n",
       "<style scoped>\n",
       "    .dataframe tbody tr th:only-of-type {\n",
       "        vertical-align: middle;\n",
       "    }\n",
       "\n",
       "    .dataframe tbody tr th {\n",
       "        vertical-align: top;\n",
       "    }\n",
       "\n",
       "    .dataframe thead th {\n",
       "        text-align: right;\n",
       "    }\n",
       "</style>\n",
       "<table border=\"1\" class=\"dataframe\">\n",
       "  <thead>\n",
       "    <tr style=\"text-align: right;\">\n",
       "      <th></th>\n",
       "      <th>novelORF_ID</th>\n",
       "      <th>transcript_ID</th>\n",
       "      <th>transcriptBiotype</th>\n",
       "      <th>ORFannotation</th>\n",
       "      <th>inFrame</th>\n",
       "      <th>codingRegion</th>\n",
       "      <th>chr</th>\n",
       "      <th>start</th>\n",
       "      <th>end</th>\n",
       "      <th>score</th>\n",
       "      <th>strand</th>\n",
       "    </tr>\n",
       "  </thead>\n",
       "  <tbody>\n",
       "    <tr>\n",
       "      <th>11</th>\n",
       "      <td>00aeH2</td>\n",
       "      <td>ENST00000425657</td>\n",
       "      <td>retained_intron</td>\n",
       "      <td>retained_intron</td>\n",
       "      <td>False</td>\n",
       "      <td>True</td>\n",
       "      <td>1</td>\n",
       "      <td>851944</td>\n",
       "      <td>852067</td>\n",
       "      <td>0</td>\n",
       "      <td>+</td>\n",
       "    </tr>\n",
       "    <tr>\n",
       "      <th>13</th>\n",
       "      <td>00ayH1</td>\n",
       "      <td>ENST00000342066</td>\n",
       "      <td>protein_coding</td>\n",
       "      <td>cds-intronic</td>\n",
       "      <td>False</td>\n",
       "      <td>True</td>\n",
       "      <td>1</td>\n",
       "      <td>925942</td>\n",
       "      <td>926017</td>\n",
       "      <td>0</td>\n",
       "      <td>+</td>\n",
       "    </tr>\n",
       "    <tr>\n",
       "      <th>14</th>\n",
       "      <td>00ayH2</td>\n",
       "      <td>ENST00000342066</td>\n",
       "      <td>protein_coding</td>\n",
       "      <td>cds</td>\n",
       "      <td>False</td>\n",
       "      <td>True</td>\n",
       "      <td>1</td>\n",
       "      <td>925942</td>\n",
       "      <td>930155</td>\n",
       "      <td>0</td>\n",
       "      <td>+</td>\n",
       "    </tr>\n",
       "    <tr>\n",
       "      <th>15</th>\n",
       "      <td>00bfH1</td>\n",
       "      <td>ENST00000341065</td>\n",
       "      <td>protein_coding</td>\n",
       "      <td>cds-intronic</td>\n",
       "      <td>False</td>\n",
       "      <td>True</td>\n",
       "      <td>1</td>\n",
       "      <td>939088</td>\n",
       "      <td>939133</td>\n",
       "      <td>0</td>\n",
       "      <td>+</td>\n",
       "    </tr>\n",
       "    <tr>\n",
       "      <th>16</th>\n",
       "      <td>00bfH2</td>\n",
       "      <td>ENST00000341065</td>\n",
       "      <td>protein_coding</td>\n",
       "      <td>cds</td>\n",
       "      <td>False</td>\n",
       "      <td>True</td>\n",
       "      <td>1</td>\n",
       "      <td>939088</td>\n",
       "      <td>939371</td>\n",
       "      <td>0</td>\n",
       "      <td>+</td>\n",
       "    </tr>\n",
       "  </tbody>\n",
       "</table>\n",
       "</div>"
      ],
      "text/plain": [
       "   novelORF_ID    transcript_ID transcriptBiotype    ORFannotation  inFrame  \\\n",
       "11      00aeH2  ENST00000425657   retained_intron  retained_intron    False   \n",
       "13      00ayH1  ENST00000342066    protein_coding     cds-intronic    False   \n",
       "14      00ayH2  ENST00000342066    protein_coding              cds    False   \n",
       "15      00bfH1  ENST00000341065    protein_coding     cds-intronic    False   \n",
       "16      00bfH2  ENST00000341065    protein_coding              cds    False   \n",
       "\n",
       "    codingRegion chr   start     end  score strand  \n",
       "11          True   1  851944  852067      0      +  \n",
       "13          True   1  925942  926017      0      +  \n",
       "14          True   1  925942  930155      0      +  \n",
       "15          True   1  939088  939133      0      +  \n",
       "16          True   1  939088  939371      0      +  "
      ]
     },
     "execution_count": 160,
     "metadata": {},
     "output_type": "execute_result"
    }
   ],
   "source": [
    "coding_norfs.head()"
   ]
  },
  {
   "cell_type": "code",
   "execution_count": 161,
   "metadata": {},
   "outputs": [
    {
     "data": {
      "text/plain": [
       "(274709, 11)"
      ]
     },
     "execution_count": 161,
     "metadata": {},
     "output_type": "execute_result"
    }
   ],
   "source": [
    "coding_norfs.shape"
   ]
  },
  {
   "cell_type": "markdown",
   "metadata": {},
   "source": [
    "write norfs to a file "
   ]
  },
  {
   "cell_type": "code",
   "execution_count": 162,
   "metadata": {
    "scrolled": true
   },
   "outputs": [
    {
     "data": {
      "text/html": [
       "<div>\n",
       "<style scoped>\n",
       "    .dataframe tbody tr th:only-of-type {\n",
       "        vertical-align: middle;\n",
       "    }\n",
       "\n",
       "    .dataframe tbody tr th {\n",
       "        vertical-align: top;\n",
       "    }\n",
       "\n",
       "    .dataframe thead th {\n",
       "        text-align: right;\n",
       "    }\n",
       "</style>\n",
       "<table border=\"1\" class=\"dataframe\">\n",
       "  <thead>\n",
       "    <tr style=\"text-align: right;\">\n",
       "      <th></th>\n",
       "      <th>chr</th>\n",
       "      <th>start</th>\n",
       "      <th>end</th>\n",
       "      <th>novelORF_ID</th>\n",
       "      <th>score</th>\n",
       "      <th>strand</th>\n",
       "    </tr>\n",
       "  </thead>\n",
       "  <tbody>\n",
       "    <tr>\n",
       "      <th>11</th>\n",
       "      <td>1</td>\n",
       "      <td>851944</td>\n",
       "      <td>852067</td>\n",
       "      <td>00aeH2</td>\n",
       "      <td>0</td>\n",
       "      <td>+</td>\n",
       "    </tr>\n",
       "    <tr>\n",
       "      <th>13</th>\n",
       "      <td>1</td>\n",
       "      <td>925942</td>\n",
       "      <td>926017</td>\n",
       "      <td>00ayH1</td>\n",
       "      <td>0</td>\n",
       "      <td>+</td>\n",
       "    </tr>\n",
       "    <tr>\n",
       "      <th>14</th>\n",
       "      <td>1</td>\n",
       "      <td>925942</td>\n",
       "      <td>930155</td>\n",
       "      <td>00ayH2</td>\n",
       "      <td>0</td>\n",
       "      <td>+</td>\n",
       "    </tr>\n",
       "    <tr>\n",
       "      <th>15</th>\n",
       "      <td>1</td>\n",
       "      <td>939088</td>\n",
       "      <td>939133</td>\n",
       "      <td>00bfH1</td>\n",
       "      <td>0</td>\n",
       "      <td>+</td>\n",
       "    </tr>\n",
       "    <tr>\n",
       "      <th>16</th>\n",
       "      <td>1</td>\n",
       "      <td>939088</td>\n",
       "      <td>939371</td>\n",
       "      <td>00bfH2</td>\n",
       "      <td>0</td>\n",
       "      <td>+</td>\n",
       "    </tr>\n",
       "  </tbody>\n",
       "</table>\n",
       "</div>"
      ],
      "text/plain": [
       "   chr   start     end novelORF_ID  score strand\n",
       "11   1  851944  852067      00aeH2      0      +\n",
       "13   1  925942  926017      00ayH1      0      +\n",
       "14   1  925942  930155      00ayH2      0      +\n",
       "15   1  939088  939133      00bfH1      0      +\n",
       "16   1  939088  939371      00bfH2      0      +"
      ]
     },
     "execution_count": 162,
     "metadata": {},
     "output_type": "execute_result"
    }
   ],
   "source": [
    "coding_norfs[['chr','start','end','novelORF_ID','score','strand']].head()"
   ]
  },
  {
   "cell_type": "code",
   "execution_count": 163,
   "metadata": {},
   "outputs": [],
   "source": [
    "compression_opts = dict(method='gzip',\n",
    "                        archive_name='norfs_coding_only_hg38.bed')  \n"
   ]
  },
  {
   "cell_type": "code",
   "execution_count": 164,
   "metadata": {},
   "outputs": [],
   "source": [
    "coding_norfs[['chr','start','end','novelORF_ID','score','strand']].to_csv('../../analysis/norfs/coding/norfs_coding_only_hg38.bed.gz', index=False,\n",
    "                                                                          header= False, sep= \"\\t\", compression=compression_opts) "
   ]
  },
  {
   "cell_type": "code",
   "execution_count": null,
   "metadata": {},
   "outputs": [],
   "source": []
  },
  {
   "cell_type": "markdown",
   "metadata": {},
   "source": [
    "# noncoding region norfs "
   ]
  },
  {
   "cell_type": "code",
   "execution_count": 165,
   "metadata": {},
   "outputs": [],
   "source": [
    "noncoding_norfs = norfs_with_class_annotation.loc[norfs_with_class_annotation['codingRegion'] == False]"
   ]
  },
  {
   "cell_type": "code",
   "execution_count": 166,
   "metadata": {},
   "outputs": [
    {
     "data": {
      "text/html": [
       "<div>\n",
       "<style scoped>\n",
       "    .dataframe tbody tr th:only-of-type {\n",
       "        vertical-align: middle;\n",
       "    }\n",
       "\n",
       "    .dataframe tbody tr th {\n",
       "        vertical-align: top;\n",
       "    }\n",
       "\n",
       "    .dataframe thead th {\n",
       "        text-align: right;\n",
       "    }\n",
       "</style>\n",
       "<table border=\"1\" class=\"dataframe\">\n",
       "  <thead>\n",
       "    <tr style=\"text-align: right;\">\n",
       "      <th></th>\n",
       "      <th>novelORF_ID</th>\n",
       "      <th>transcript_ID</th>\n",
       "      <th>transcriptBiotype</th>\n",
       "      <th>ORFannotation</th>\n",
       "      <th>inFrame</th>\n",
       "      <th>codingRegion</th>\n",
       "      <th>chr</th>\n",
       "      <th>start</th>\n",
       "      <th>end</th>\n",
       "      <th>score</th>\n",
       "      <th>strand</th>\n",
       "    </tr>\n",
       "  </thead>\n",
       "  <tbody>\n",
       "    <tr>\n",
       "      <th>0</th>\n",
       "      <td>001aH1</td>\n",
       "      <td>ENST00000457540</td>\n",
       "      <td>unprocessed_pseudogene</td>\n",
       "      <td>pseudogene</td>\n",
       "      <td>False</td>\n",
       "      <td>False</td>\n",
       "      <td>1</td>\n",
       "      <td>629921</td>\n",
       "      <td>629981</td>\n",
       "      <td>0</td>\n",
       "      <td>+</td>\n",
       "    </tr>\n",
       "    <tr>\n",
       "      <th>1</th>\n",
       "      <td>001bH1</td>\n",
       "      <td>ENST00000457540</td>\n",
       "      <td>unprocessed_pseudogene</td>\n",
       "      <td>pseudogene</td>\n",
       "      <td>False</td>\n",
       "      <td>False</td>\n",
       "      <td>1</td>\n",
       "      <td>630008</td>\n",
       "      <td>630038</td>\n",
       "      <td>0</td>\n",
       "      <td>+</td>\n",
       "    </tr>\n",
       "    <tr>\n",
       "      <th>2</th>\n",
       "      <td>002kH1</td>\n",
       "      <td>ENST00000414273</td>\n",
       "      <td>unprocessed_pseudogene</td>\n",
       "      <td>pseudogene</td>\n",
       "      <td>False</td>\n",
       "      <td>False</td>\n",
       "      <td>1</td>\n",
       "      <td>631378</td>\n",
       "      <td>631582</td>\n",
       "      <td>0</td>\n",
       "      <td>+</td>\n",
       "    </tr>\n",
       "    <tr>\n",
       "      <th>3</th>\n",
       "      <td>002kH2</td>\n",
       "      <td>ENST00000414273</td>\n",
       "      <td>unprocessed_pseudogene</td>\n",
       "      <td>pseudogene</td>\n",
       "      <td>False</td>\n",
       "      <td>False</td>\n",
       "      <td>1</td>\n",
       "      <td>631406</td>\n",
       "      <td>631451</td>\n",
       "      <td>0</td>\n",
       "      <td>+</td>\n",
       "    </tr>\n",
       "    <tr>\n",
       "      <th>4</th>\n",
       "      <td>002nH1</td>\n",
       "      <td>ENST00000414273</td>\n",
       "      <td>unprocessed_pseudogene</td>\n",
       "      <td>pseudogene</td>\n",
       "      <td>False</td>\n",
       "      <td>False</td>\n",
       "      <td>1</td>\n",
       "      <td>632072</td>\n",
       "      <td>632615</td>\n",
       "      <td>0</td>\n",
       "      <td>+</td>\n",
       "    </tr>\n",
       "  </tbody>\n",
       "</table>\n",
       "</div>"
      ],
      "text/plain": [
       "  novelORF_ID    transcript_ID       transcriptBiotype ORFannotation  inFrame  \\\n",
       "0      001aH1  ENST00000457540  unprocessed_pseudogene    pseudogene    False   \n",
       "1      001bH1  ENST00000457540  unprocessed_pseudogene    pseudogene    False   \n",
       "2      002kH1  ENST00000414273  unprocessed_pseudogene    pseudogene    False   \n",
       "3      002kH2  ENST00000414273  unprocessed_pseudogene    pseudogene    False   \n",
       "4      002nH1  ENST00000414273  unprocessed_pseudogene    pseudogene    False   \n",
       "\n",
       "   codingRegion chr   start     end  score strand  \n",
       "0         False   1  629921  629981      0      +  \n",
       "1         False   1  630008  630038      0      +  \n",
       "2         False   1  631378  631582      0      +  \n",
       "3         False   1  631406  631451      0      +  \n",
       "4         False   1  632072  632615      0      +  "
      ]
     },
     "execution_count": 166,
     "metadata": {},
     "output_type": "execute_result"
    }
   ],
   "source": [
    "noncoding_norfs.head()"
   ]
  },
  {
   "cell_type": "code",
   "execution_count": 167,
   "metadata": {},
   "outputs": [
    {
     "data": {
      "text/plain": [
       "(21300, 11)"
      ]
     },
     "execution_count": 167,
     "metadata": {},
     "output_type": "execute_result"
    }
   ],
   "source": [
    "noncoding_norfs.shape"
   ]
  },
  {
   "cell_type": "code",
   "execution_count": 168,
   "metadata": {},
   "outputs": [
    {
     "data": {
      "text/html": [
       "<div>\n",
       "<style scoped>\n",
       "    .dataframe tbody tr th:only-of-type {\n",
       "        vertical-align: middle;\n",
       "    }\n",
       "\n",
       "    .dataframe tbody tr th {\n",
       "        vertical-align: top;\n",
       "    }\n",
       "\n",
       "    .dataframe thead th {\n",
       "        text-align: right;\n",
       "    }\n",
       "</style>\n",
       "<table border=\"1\" class=\"dataframe\">\n",
       "  <thead>\n",
       "    <tr style=\"text-align: right;\">\n",
       "      <th></th>\n",
       "      <th>chr</th>\n",
       "      <th>start</th>\n",
       "      <th>end</th>\n",
       "      <th>novelORF_ID</th>\n",
       "      <th>score</th>\n",
       "      <th>strand</th>\n",
       "    </tr>\n",
       "  </thead>\n",
       "  <tbody>\n",
       "    <tr>\n",
       "      <th>0</th>\n",
       "      <td>1</td>\n",
       "      <td>629921</td>\n",
       "      <td>629981</td>\n",
       "      <td>001aH1</td>\n",
       "      <td>0</td>\n",
       "      <td>+</td>\n",
       "    </tr>\n",
       "    <tr>\n",
       "      <th>1</th>\n",
       "      <td>1</td>\n",
       "      <td>630008</td>\n",
       "      <td>630038</td>\n",
       "      <td>001bH1</td>\n",
       "      <td>0</td>\n",
       "      <td>+</td>\n",
       "    </tr>\n",
       "    <tr>\n",
       "      <th>2</th>\n",
       "      <td>1</td>\n",
       "      <td>631378</td>\n",
       "      <td>631582</td>\n",
       "      <td>002kH1</td>\n",
       "      <td>0</td>\n",
       "      <td>+</td>\n",
       "    </tr>\n",
       "    <tr>\n",
       "      <th>3</th>\n",
       "      <td>1</td>\n",
       "      <td>631406</td>\n",
       "      <td>631451</td>\n",
       "      <td>002kH2</td>\n",
       "      <td>0</td>\n",
       "      <td>+</td>\n",
       "    </tr>\n",
       "    <tr>\n",
       "      <th>4</th>\n",
       "      <td>1</td>\n",
       "      <td>632072</td>\n",
       "      <td>632615</td>\n",
       "      <td>002nH1</td>\n",
       "      <td>0</td>\n",
       "      <td>+</td>\n",
       "    </tr>\n",
       "  </tbody>\n",
       "</table>\n",
       "</div>"
      ],
      "text/plain": [
       "  chr   start     end novelORF_ID  score strand\n",
       "0   1  629921  629981      001aH1      0      +\n",
       "1   1  630008  630038      001bH1      0      +\n",
       "2   1  631378  631582      002kH1      0      +\n",
       "3   1  631406  631451      002kH2      0      +\n",
       "4   1  632072  632615      002nH1      0      +"
      ]
     },
     "execution_count": 168,
     "metadata": {},
     "output_type": "execute_result"
    }
   ],
   "source": [
    "noncoding_norfs[['chr','start','end','novelORF_ID','score','strand']].head()"
   ]
  },
  {
   "cell_type": "code",
   "execution_count": 169,
   "metadata": {},
   "outputs": [],
   "source": [
    "compression_opts = dict(method='gzip',\n",
    "                        archive_name='norfs_noncoding_only_hg38.bed')  "
   ]
  },
  {
   "cell_type": "code",
   "execution_count": 170,
   "metadata": {},
   "outputs": [],
   "source": [
    "noncoding_norfs[['chr','start','end',\n",
    "              'novelORF_ID','score',\n",
    "                 'strand']].to_csv('../../analysis/norfs/noncoding/norfs_noncoding_only_hg38.bed.gz', \n",
    "                                                                          index=False,\n",
    "                                                                          header= False, sep= \"\\t\",\n",
    "                                   compression=compression_opts)"
   ]
  },
  {
   "cell_type": "code",
   "execution_count": null,
   "metadata": {},
   "outputs": [],
   "source": []
  },
  {
   "cell_type": "markdown",
   "metadata": {},
   "source": [
    "# all norfs "
   ]
  },
  {
   "cell_type": "code",
   "execution_count": 171,
   "metadata": {},
   "outputs": [],
   "source": [
    "compression_opts = dict(method='gzip',\n",
    "                        archive_name='norfs_all_hg38.bed') "
   ]
  },
  {
   "cell_type": "code",
   "execution_count": 172,
   "metadata": {},
   "outputs": [],
   "source": [
    "norfs_with_class_annotation[['chr','start','end',\n",
    "              'novelORF_ID','score',\n",
    "                 'strand']].to_csv('../../analysis/norfs/allnorfs/norfs_all_hg38.bed.gz', \n",
    "                                                                          index=False,\n",
    "                                                                          header= False, sep= \"\\t\",\n",
    "                                   compression=compression_opts)"
   ]
  },
  {
   "cell_type": "code",
   "execution_count": null,
   "metadata": {},
   "outputs": [],
   "source": []
  }
 ],
 "metadata": {
  "kernelspec": {
   "display_name": "Python 3",
   "language": "python",
   "name": "python3"
  },
  "language_info": {
   "codemirror_mode": {
    "name": "ipython",
    "version": 3
   },
   "file_extension": ".py",
   "mimetype": "text/x-python",
   "name": "python",
   "nbconvert_exporter": "python",
   "pygments_lexer": "ipython3",
   "version": "3.7.4"
  }
 },
 "nbformat": 4,
 "nbformat_minor": 4
}