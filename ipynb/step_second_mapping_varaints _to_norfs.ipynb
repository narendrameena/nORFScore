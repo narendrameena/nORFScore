{
 "cells": [
  {
   "cell_type": "code",
   "execution_count": 196,
   "metadata": {},
   "outputs": [
    {
     "data": {
      "text/plain": [
       "'\\n#@author narumeena\\n#@project norfScore\\n#@description 1) seprate pathgenic varaints from hgmd and clinvar \\n#2) combine all pathogenic variants \\n#3) seprate human drive benign variants \\n#4) mapp to norfs regions \\n#5) prepare them for caan and annovar annotation as vcf and annova inpout file format\\n\\n'"
      ]
     },
     "execution_count": 196,
     "metadata": {},
     "output_type": "execute_result"
    }
   ],
   "source": [
    "#!/usr/bin/env python3\n",
    "\n",
    "'''\n",
    "#@author narumeena\n",
    "#@project norfScore\n",
    "#@description 1) seprate pathgenic varaints from hgmd and clinvar \n",
    "#2) combine all pathogenic variants \n",
    "#3) seprate human drive benign variants \n",
    "#4) mapp to norfs regions \n",
    "#5) prepare them for caan and annovar annotation as vcf and annova inpout file format\n",
    "\n",
    "'''"
   ]
  },
  {
   "cell_type": "code",
   "execution_count": 197,
   "metadata": {},
   "outputs": [],
   "source": [
    "import pandas as pd \n",
    "import pybedtools as bedtool"
   ]
  },
  {
   "cell_type": "markdown",
   "metadata": {},
   "source": [
    "# mapping all variants to norfs "
   ]
  },
  {
   "cell_type": "markdown",
   "metadata": {},
   "source": [
    "# HGMD dataset\n"
   ]
  },
  {
   "cell_type": "markdown",
   "metadata": {},
   "source": [
    "\n",
    "_coding regions_\n",
    "\n",
    "\n",
    "bedtools intersect -a ../../norfs/coding/norfs_coding_only_hg38.bed.gz -b ../../../data/input/variants/HGMD_PRO_2016.4_hg38.vcf.gz -wo | grep 'CLASS=DM;' > hgmd_mapped_to_coding_norfs_hg38.tsv"
   ]
  },
  {
   "cell_type": "markdown",
   "metadata": {},
   "source": [
    "bedtools intersect -a ../../norfs/coding/norfs_coding_only_hg38.bed.gz -b ../../../data/input/variants/HGMD_PRO_2016.4_hg38.vcf.gz -wb | grep 'CLASS=DM;' > hgmd_mapped_to_coding_norfs_hg38.vcf "
   ]
  },
  {
   "cell_type": "markdown",
   "metadata": {},
   "source": [
    "_noncoding norfs_\n",
    "\n",
    "bedtools intersect -b ../../norfs/noncoding/norfs_noncoding_only_hg38.bed.gz -a ../../../data/input/variants/HGMD_PRO_2016.4_hg38.vcf.gz -wo | grep 'CLASS=DM;' > hgmd_DM_only_mapped_to_noncoding_norfs_hg38.tsv\n",
    "\n",
    "bedtools intersect -b ../../norfs/noncoding/norfs_noncoding_only_hg38.bed.gz -a ../../../data/input/variants/HGMD_PRO_2016.4_hg38.vcf.gz -wa | grep 'CLASS=DM;' > hgmd_DM_only_mapped_to_noncoding_norfs_hg38.vcf"
   ]
  },
  {
   "cell_type": "markdown",
   "metadata": {},
   "source": [
    "_all norfs_\n",
    "\n",
    "bedtools intersect -b ../../norfs/allnorfs/norfs_all_hg38.bed.gz -a ../../../data/input/variants/HGMD_PRO_2016.4_hg38.vcf.gz -wo  | grep 'CLASS=DM;' > hgmd_DM_only_all_norfs_hg38.tsv\n",
    "\n",
    "bedtools intersect -b ../../norfs/allnorfs/norfs_all_hg38.bed.gz -a ../../../data/input/variants/HGMD_PRO_2016.4_hg38.vcf.gz -wa  | grep 'CLASS=DM;' > hgmd_DM_only_all_norfs_hg38.vcf"
   ]
  },
  {
   "cell_type": "markdown",
   "metadata": {},
   "source": [
    "# clinvar Dataset"
   ]
  },
  {
   "cell_type": "markdown",
   "metadata": {},
   "source": [
    "_coding norfs_"
   ]
  },
  {
   "cell_type": "markdown",
   "metadata": {},
   "source": [
    "bedtools intersect -a ../../norfs/coding/norfs_coding_only_hg38.bed.gz -b ../../../data/input/variants/clinvar_20190429.vcf.gz -wo | grep 'CLNSIG=Pathogenic;' > clinvar_pathogenic_norf_coding_region..tsv"
   ]
  },
  {
   "cell_type": "markdown",
   "metadata": {},
   "source": [
    " bedtools intersect -a ../../norfs/coding/norfs_coding_only_hg38.bed.gz -b ../../../data/input/variants/clinvar_20190429.vcf.gz -wb | grep 'CLNSIG=Pathogenic;' > clinvar_pathogenic_norf_coding_region.vcf"
   ]
  },
  {
   "cell_type": "markdown",
   "metadata": {},
   "source": [
    "_noncoding norfs_"
   ]
  },
  {
   "cell_type": "markdown",
   "metadata": {},
   "source": [
    "bedtools intersect -b ../../norfs/noncoding/norfs_noncoding_only_hg38.bed.gz  -a ../../../data/input/variants/clinvar_20190429.vcf.gz -wa | grep 'CLNSIG=Pathogenic;' > clinvar_pathogenic_norf_noncoding_region.vcf\n",
    "\n",
    "bedtools intersect -b ../../norfs/noncoding/norfs_noncoding_only_hg38.bed.gz  -a ../../../data/input/variants/clinvar_20190429.vcf.gz -wo | grep 'CLNSIG=Pathogenic;' > clinvar_pathogenic_norf_noncoding_region.tsv"
   ]
  },
  {
   "cell_type": "markdown",
   "metadata": {},
   "source": [
    "_allnorfs_"
   ]
  },
  {
   "cell_type": "markdown",
   "metadata": {},
   "source": [
    "bedtools intersect -b ../../norfs/allnorfs/norfs_all_hg38.bed.gz  -a ../../../data/input/variants/clinvar_20190429.vcf.gz -wo | grep 'CLNSIG=Pathogenic;' > clinvar_pathogenic_all_norf.tsv\n",
    "\n",
    "bedtools intersect -b ../../norfs/allnorfs/norfs_all_hg38.bed.gz  -a ../../../data/input/variants/clinvar_20190429.vcf.gz -wa | grep 'CLNSIG=Pathogenic;' > clinvar_pathogenic_all_norf.vcf"
   ]
  },
  {
   "cell_type": "markdown",
   "metadata": {},
   "source": [
    "# human Drive Dataset "
   ]
  },
  {
   "cell_type": "markdown",
   "metadata": {},
   "source": [
    "#coding norfs "
   ]
  },
  {
   "cell_type": "markdown",
   "metadata": {},
   "source": [
    "bedtools intersect -a ../../norfs/coding/norfs_coding_only_hg38.bed.gz -b ../../../data/input/variants/humanDerived_SNVs_with_id.vcf.gz -wo  > humanDriven_coding_region_norfs.tsv \n",
    "    \n",
    "\n",
    "bedtools intersect -b ../../norfs/coding/norfs_coding_only_hg38.bed.gz -a ../../../data/input/variants/humanDerived_SNVs_with_id.vcf.gz -wa  > humanDriven_coding_region_norfs.vcf\n",
    "\n",
    "\n",
    "##noncoding region "
   ]
  },
  {
   "cell_type": "markdown",
   "metadata": {},
   "source": [
    "bedtools intersect -b ../../norfs/noncoding/norfs_noncoding_only_hg38.bed.gz -a ../../../data/input/variants/humanDerived_SNVs_with_id.vcf.gz -wa  > humanDriven_noncoding_region_norfs.vcf\n",
    "\n",
    "\n",
    "bedtools intersect -b ../../norfs/noncoding/norfs_noncoding_only_hg38.bed.gz -a ../../../data/input/variants/humanDerived_SNVs_with_id.vcf.gz -wo  > humanDriven_noncoding_region_norfs.tsv"
   ]
  },
  {
   "cell_type": "markdown",
   "metadata": {},
   "source": [
    "##all norfs "
   ]
  },
  {
   "cell_type": "markdown",
   "metadata": {},
   "source": [
    "bedtools intersect -b ../../norfs/allnorfs/norfs_all_hg38.bed.gz -a ../../../data/input/variants/humanDerived_SNVs_with_id.vcf.gz -wo  > humanDriven_all_norfs.tsv\n",
    "\n",
    "bedtools intersect -b ../../norfs/allnorfs/norfs_all_hg38.bed.gz -a ../../../data/input/variants/humanDerived_SNVs_with_id.vcf.gz -wa  > humanDriven_all_norfs.vcf"
   ]
  },
  {
   "cell_type": "markdown",
   "metadata": {},
   "source": [
    "humanDriven = pd.read_csv('../../data/input/variants/humanDerived_SNVs_with_id.vcf.gz', compression='gzip', \n",
    "                         sep='\\t', error_bad_lines=False)"
   ]
  },
  {
   "cell_type": "markdown",
   "metadata": {},
   "source": [
    "# coding norfs "
   ]
  },
  {
   "cell_type": "markdown",
   "metadata": {},
   "source": [
    "# pathogenic only "
   ]
  },
  {
   "cell_type": "code",
   "execution_count": 198,
   "metadata": {
    "scrolled": true
   },
   "outputs": [
    {
     "name": "stderr",
     "output_type": "stream",
     "text": [
      "/home/narumeena/anaconda3/lib/python3.7/site-packages/IPython/core/interactiveshell.py:3058: DtypeWarning: Columns (0) have mixed types.Specify dtype option on import or set low_memory=False.\n",
      "  interactivity=interactivity, compiler=compiler, result=result)\n"
     ]
    }
   ],
   "source": [
    "hgmd_coding_norfs = pd.read_csv('../../analysis/variantsMappedOnnORFs/codingnorfs/hgmd_DM_only_mapped_to_coding_norfs_hg38.vcf.gz', compression='gzip', header= None,\n",
    "                         sep='\\t', error_bad_lines=False, )"
   ]
  },
  {
   "cell_type": "code",
   "execution_count": 199,
   "metadata": {},
   "outputs": [
    {
     "data": {
      "text/html": [
       "<div>\n",
       "<style scoped>\n",
       "    .dataframe tbody tr th:only-of-type {\n",
       "        vertical-align: middle;\n",
       "    }\n",
       "\n",
       "    .dataframe tbody tr th {\n",
       "        vertical-align: top;\n",
       "    }\n",
       "\n",
       "    .dataframe thead th {\n",
       "        text-align: right;\n",
       "    }\n",
       "</style>\n",
       "<table border=\"1\" class=\"dataframe\">\n",
       "  <thead>\n",
       "    <tr style=\"text-align: right;\">\n",
       "      <th></th>\n",
       "      <th>0</th>\n",
       "      <th>1</th>\n",
       "      <th>2</th>\n",
       "      <th>3</th>\n",
       "      <th>4</th>\n",
       "      <th>5</th>\n",
       "      <th>6</th>\n",
       "      <th>7</th>\n",
       "    </tr>\n",
       "  </thead>\n",
       "  <tbody>\n",
       "    <tr>\n",
       "      <th>0</th>\n",
       "      <td>1</td>\n",
       "      <td>943995</td>\n",
       "      <td>CM1613953</td>\n",
       "      <td>C</td>\n",
       "      <td>T</td>\n",
       "      <td>.</td>\n",
       "      <td>.</td>\n",
       "      <td>CLASS=DM;MUT=ALT;GENE=SAMD11;STRAND=+;DNA=NM_1...</td>\n",
       "    </tr>\n",
       "    <tr>\n",
       "      <th>1</th>\n",
       "      <td>1</td>\n",
       "      <td>943995</td>\n",
       "      <td>CM1613953</td>\n",
       "      <td>C</td>\n",
       "      <td>T</td>\n",
       "      <td>.</td>\n",
       "      <td>.</td>\n",
       "      <td>CLASS=DM;MUT=ALT;GENE=SAMD11;STRAND=+;DNA=NM_1...</td>\n",
       "    </tr>\n",
       "    <tr>\n",
       "      <th>2</th>\n",
       "      <td>1</td>\n",
       "      <td>943995</td>\n",
       "      <td>CM1613953</td>\n",
       "      <td>C</td>\n",
       "      <td>T</td>\n",
       "      <td>.</td>\n",
       "      <td>.</td>\n",
       "      <td>CLASS=DM;MUT=ALT;GENE=SAMD11;STRAND=+;DNA=NM_1...</td>\n",
       "    </tr>\n",
       "    <tr>\n",
       "      <th>3</th>\n",
       "      <td>1</td>\n",
       "      <td>943995</td>\n",
       "      <td>CM1613953</td>\n",
       "      <td>C</td>\n",
       "      <td>T</td>\n",
       "      <td>.</td>\n",
       "      <td>.</td>\n",
       "      <td>CLASS=DM;MUT=ALT;GENE=SAMD11;STRAND=+;DNA=NM_1...</td>\n",
       "    </tr>\n",
       "    <tr>\n",
       "      <th>4</th>\n",
       "      <td>1</td>\n",
       "      <td>943995</td>\n",
       "      <td>CM1613953</td>\n",
       "      <td>C</td>\n",
       "      <td>T</td>\n",
       "      <td>.</td>\n",
       "      <td>.</td>\n",
       "      <td>CLASS=DM;MUT=ALT;GENE=SAMD11;STRAND=+;DNA=NM_1...</td>\n",
       "    </tr>\n",
       "  </tbody>\n",
       "</table>\n",
       "</div>"
      ],
      "text/plain": [
       "   0       1          2  3  4  5  6  \\\n",
       "0  1  943995  CM1613953  C  T  .  .   \n",
       "1  1  943995  CM1613953  C  T  .  .   \n",
       "2  1  943995  CM1613953  C  T  .  .   \n",
       "3  1  943995  CM1613953  C  T  .  .   \n",
       "4  1  943995  CM1613953  C  T  .  .   \n",
       "\n",
       "                                                   7  \n",
       "0  CLASS=DM;MUT=ALT;GENE=SAMD11;STRAND=+;DNA=NM_1...  \n",
       "1  CLASS=DM;MUT=ALT;GENE=SAMD11;STRAND=+;DNA=NM_1...  \n",
       "2  CLASS=DM;MUT=ALT;GENE=SAMD11;STRAND=+;DNA=NM_1...  \n",
       "3  CLASS=DM;MUT=ALT;GENE=SAMD11;STRAND=+;DNA=NM_1...  \n",
       "4  CLASS=DM;MUT=ALT;GENE=SAMD11;STRAND=+;DNA=NM_1...  "
      ]
     },
     "execution_count": 199,
     "metadata": {},
     "output_type": "execute_result"
    }
   ],
   "source": [
    "hgmd_coding_norfs.head()"
   ]
  },
  {
   "cell_type": "code",
   "execution_count": 200,
   "metadata": {},
   "outputs": [
    {
     "data": {
      "text/plain": [
       "(388771, 8)"
      ]
     },
     "execution_count": 200,
     "metadata": {},
     "output_type": "execute_result"
    }
   ],
   "source": [
    "hgmd_coding_norfs.shape"
   ]
  },
  {
   "cell_type": "code",
   "execution_count": 201,
   "metadata": {},
   "outputs": [
    {
     "name": "stderr",
     "output_type": "stream",
     "text": [
      "/home/narumeena/anaconda3/lib/python3.7/site-packages/IPython/core/interactiveshell.py:3058: DtypeWarning: Columns (0) have mixed types.Specify dtype option on import or set low_memory=False.\n",
      "  interactivity=interactivity, compiler=compiler, result=result)\n"
     ]
    }
   ],
   "source": [
    "clinvar_coding_norfs = pd.read_csv('../../analysis/variantsMappedOnnORFs/codingnorfs/clinvar_pathogenic_norf_coding_region.vcf.gz', compression='gzip', header= None,\n",
    "                         sep='\\t', error_bad_lines=False, )"
   ]
  },
  {
   "cell_type": "code",
   "execution_count": 202,
   "metadata": {},
   "outputs": [
    {
     "data": {
      "text/html": [
       "<div>\n",
       "<style scoped>\n",
       "    .dataframe tbody tr th:only-of-type {\n",
       "        vertical-align: middle;\n",
       "    }\n",
       "\n",
       "    .dataframe tbody tr th {\n",
       "        vertical-align: top;\n",
       "    }\n",
       "\n",
       "    .dataframe thead th {\n",
       "        text-align: right;\n",
       "    }\n",
       "</style>\n",
       "<table border=\"1\" class=\"dataframe\">\n",
       "  <thead>\n",
       "    <tr style=\"text-align: right;\">\n",
       "      <th></th>\n",
       "      <th>0</th>\n",
       "      <th>1</th>\n",
       "      <th>2</th>\n",
       "      <th>3</th>\n",
       "      <th>4</th>\n",
       "      <th>5</th>\n",
       "      <th>6</th>\n",
       "      <th>7</th>\n",
       "    </tr>\n",
       "  </thead>\n",
       "  <tbody>\n",
       "    <tr>\n",
       "      <th>0</th>\n",
       "      <td>1</td>\n",
       "      <td>1014143</td>\n",
       "      <td>183381</td>\n",
       "      <td>C</td>\n",
       "      <td>T</td>\n",
       "      <td>.</td>\n",
       "      <td>.</td>\n",
       "      <td>ALLELEID=181485;CLNDISDB=MedGen:C4015293,OMIM:...</td>\n",
       "    </tr>\n",
       "    <tr>\n",
       "      <th>1</th>\n",
       "      <td>1</td>\n",
       "      <td>1014143</td>\n",
       "      <td>183381</td>\n",
       "      <td>C</td>\n",
       "      <td>T</td>\n",
       "      <td>.</td>\n",
       "      <td>.</td>\n",
       "      <td>ALLELEID=181485;CLNDISDB=MedGen:C4015293,OMIM:...</td>\n",
       "    </tr>\n",
       "    <tr>\n",
       "      <th>2</th>\n",
       "      <td>1</td>\n",
       "      <td>1022225</td>\n",
       "      <td>243036</td>\n",
       "      <td>G</td>\n",
       "      <td>A</td>\n",
       "      <td>.</td>\n",
       "      <td>.</td>\n",
       "      <td>AF_EXAC=0.00001;ALLELEID=244110;CLNDISDB=MedGe...</td>\n",
       "    </tr>\n",
       "    <tr>\n",
       "      <th>3</th>\n",
       "      <td>1</td>\n",
       "      <td>1022225</td>\n",
       "      <td>243036</td>\n",
       "      <td>G</td>\n",
       "      <td>A</td>\n",
       "      <td>.</td>\n",
       "      <td>.</td>\n",
       "      <td>AF_EXAC=0.00001;ALLELEID=244110;CLNDISDB=MedGe...</td>\n",
       "    </tr>\n",
       "    <tr>\n",
       "      <th>4</th>\n",
       "      <td>1</td>\n",
       "      <td>1022313</td>\n",
       "      <td>243037</td>\n",
       "      <td>A</td>\n",
       "      <td>T</td>\n",
       "      <td>.</td>\n",
       "      <td>.</td>\n",
       "      <td>ALLELEID=244111;CLNDISDB=MedGen:C0751882,Orpha...</td>\n",
       "    </tr>\n",
       "  </tbody>\n",
       "</table>\n",
       "</div>"
      ],
      "text/plain": [
       "   0        1       2  3  4  5  6  \\\n",
       "0  1  1014143  183381  C  T  .  .   \n",
       "1  1  1014143  183381  C  T  .  .   \n",
       "2  1  1022225  243036  G  A  .  .   \n",
       "3  1  1022225  243036  G  A  .  .   \n",
       "4  1  1022313  243037  A  T  .  .   \n",
       "\n",
       "                                                   7  \n",
       "0  ALLELEID=181485;CLNDISDB=MedGen:C4015293,OMIM:...  \n",
       "1  ALLELEID=181485;CLNDISDB=MedGen:C4015293,OMIM:...  \n",
       "2  AF_EXAC=0.00001;ALLELEID=244110;CLNDISDB=MedGe...  \n",
       "3  AF_EXAC=0.00001;ALLELEID=244110;CLNDISDB=MedGe...  \n",
       "4  ALLELEID=244111;CLNDISDB=MedGen:C0751882,Orpha...  "
      ]
     },
     "execution_count": 202,
     "metadata": {},
     "output_type": "execute_result"
    }
   ],
   "source": [
    "clinvar_coding_norfs.head()"
   ]
  },
  {
   "cell_type": "code",
   "execution_count": 203,
   "metadata": {},
   "outputs": [
    {
     "data": {
      "text/plain": [
       "(177352, 8)"
      ]
     },
     "execution_count": 203,
     "metadata": {},
     "output_type": "execute_result"
    }
   ],
   "source": [
    "clinvar_coding_norfs.shape"
   ]
  },
  {
   "cell_type": "code",
   "execution_count": 204,
   "metadata": {},
   "outputs": [],
   "source": [
    "pathogenic_coding = pd.concat([hgmd_coding_norfs[[0,1,2,3,4,5,6]],\n",
    "                               clinvar_coding_norfs[[0,1,2,3,4,5,6]]], ignore_index=True).drop_duplicates()"
   ]
  },
  {
   "cell_type": "code",
   "execution_count": 205,
   "metadata": {},
   "outputs": [
    {
     "data": {
      "text/html": [
       "<div>\n",
       "<style scoped>\n",
       "    .dataframe tbody tr th:only-of-type {\n",
       "        vertical-align: middle;\n",
       "    }\n",
       "\n",
       "    .dataframe tbody tr th {\n",
       "        vertical-align: top;\n",
       "    }\n",
       "\n",
       "    .dataframe thead th {\n",
       "        text-align: right;\n",
       "    }\n",
       "</style>\n",
       "<table border=\"1\" class=\"dataframe\">\n",
       "  <thead>\n",
       "    <tr style=\"text-align: right;\">\n",
       "      <th></th>\n",
       "      <th>0</th>\n",
       "      <th>1</th>\n",
       "      <th>2</th>\n",
       "      <th>3</th>\n",
       "      <th>4</th>\n",
       "      <th>5</th>\n",
       "      <th>6</th>\n",
       "    </tr>\n",
       "  </thead>\n",
       "  <tbody>\n",
       "    <tr>\n",
       "      <th>0</th>\n",
       "      <td>1</td>\n",
       "      <td>943995</td>\n",
       "      <td>CM1613953</td>\n",
       "      <td>C</td>\n",
       "      <td>T</td>\n",
       "      <td>.</td>\n",
       "      <td>.</td>\n",
       "    </tr>\n",
       "    <tr>\n",
       "      <th>6</th>\n",
       "      <td>1</td>\n",
       "      <td>1014143</td>\n",
       "      <td>CM1411641</td>\n",
       "      <td>C</td>\n",
       "      <td>T</td>\n",
       "      <td>.</td>\n",
       "      <td>.</td>\n",
       "    </tr>\n",
       "    <tr>\n",
       "      <th>8</th>\n",
       "      <td>1</td>\n",
       "      <td>1022225</td>\n",
       "      <td>CM148517</td>\n",
       "      <td>G</td>\n",
       "      <td>A</td>\n",
       "      <td>.</td>\n",
       "      <td>.</td>\n",
       "    </tr>\n",
       "    <tr>\n",
       "      <th>10</th>\n",
       "      <td>1</td>\n",
       "      <td>1022313</td>\n",
       "      <td>CM148518</td>\n",
       "      <td>A</td>\n",
       "      <td>T</td>\n",
       "      <td>.</td>\n",
       "      <td>.</td>\n",
       "    </tr>\n",
       "    <tr>\n",
       "      <th>11</th>\n",
       "      <td>1</td>\n",
       "      <td>1041582</td>\n",
       "      <td>CM126385</td>\n",
       "      <td>C</td>\n",
       "      <td>T</td>\n",
       "      <td>.</td>\n",
       "      <td>.</td>\n",
       "    </tr>\n",
       "  </tbody>\n",
       "</table>\n",
       "</div>"
      ],
      "text/plain": [
       "    0        1          2  3  4  5  6\n",
       "0   1   943995  CM1613953  C  T  .  .\n",
       "6   1  1014143  CM1411641  C  T  .  .\n",
       "8   1  1022225   CM148517  G  A  .  .\n",
       "10  1  1022313   CM148518  A  T  .  .\n",
       "11  1  1041582   CM126385  C  T  .  ."
      ]
     },
     "execution_count": 205,
     "metadata": {},
     "output_type": "execute_result"
    }
   ],
   "source": [
    "pathogenic_coding.head()"
   ]
  },
  {
   "cell_type": "code",
   "execution_count": 206,
   "metadata": {},
   "outputs": [
    {
     "data": {
      "text/plain": [
       "(165034, 7)"
      ]
     },
     "execution_count": 206,
     "metadata": {},
     "output_type": "execute_result"
    }
   ],
   "source": [
    "pathogenic_coding.shape"
   ]
  },
  {
   "cell_type": "code",
   "execution_count": 207,
   "metadata": {},
   "outputs": [],
   "source": [
    "#saving the data \n",
    "compression_opts = dict(method='gzip',\n",
    "                        archive_name='pathogenic_coding_only_hg38.vcf')  \n",
    "pathogenic_coding.to_csv('../../analysis/slectedVariantsmappedTonorfs/codingNorfs/pathogenic/pathogenic_coding_only_hg38.vcf.gz', index=False,\n",
    "                                                                          header= False, sep= \"\\t\", compression=compression_opts) "
   ]
  },
  {
   "cell_type": "markdown",
   "metadata": {},
   "source": [
    "# benign only "
   ]
  },
  {
   "cell_type": "code",
   "execution_count": 208,
   "metadata": {},
   "outputs": [],
   "source": [
    "humanDriven_coding_norfs = pd.read_csv('../../analysis/variantsMappedOnnORFs/codingnorfs/humanDriven_coding_region_norfs.vcf.gz', compression='gzip', header= None,\n",
    "                         sep='\\t', error_bad_lines=False ).drop_duplicates().sample(frac=0.045)\n"
   ]
  },
  {
   "cell_type": "code",
   "execution_count": 209,
   "metadata": {},
   "outputs": [
    {
     "data": {
      "text/html": [
       "<div>\n",
       "<style scoped>\n",
       "    .dataframe tbody tr th:only-of-type {\n",
       "        vertical-align: middle;\n",
       "    }\n",
       "\n",
       "    .dataframe tbody tr th {\n",
       "        vertical-align: top;\n",
       "    }\n",
       "\n",
       "    .dataframe thead th {\n",
       "        text-align: right;\n",
       "    }\n",
       "</style>\n",
       "<table border=\"1\" class=\"dataframe\">\n",
       "  <thead>\n",
       "    <tr style=\"text-align: right;\">\n",
       "      <th></th>\n",
       "      <th>0</th>\n",
       "      <th>1</th>\n",
       "      <th>2</th>\n",
       "      <th>3</th>\n",
       "      <th>4</th>\n",
       "    </tr>\n",
       "  </thead>\n",
       "  <tbody>\n",
       "    <tr>\n",
       "      <th>1278172</th>\n",
       "      <td>2</td>\n",
       "      <td>152735331</td>\n",
       "      <td>152735331</td>\n",
       "      <td>T</td>\n",
       "      <td>G</td>\n",
       "    </tr>\n",
       "    <tr>\n",
       "      <th>8058856</th>\n",
       "      <td>16</td>\n",
       "      <td>56792636</td>\n",
       "      <td>56792636</td>\n",
       "      <td>A</td>\n",
       "      <td>G</td>\n",
       "    </tr>\n",
       "    <tr>\n",
       "      <th>3873700</th>\n",
       "      <td>6</td>\n",
       "      <td>161854735</td>\n",
       "      <td>161854735</td>\n",
       "      <td>T</td>\n",
       "      <td>C</td>\n",
       "    </tr>\n",
       "    <tr>\n",
       "      <th>8621589</th>\n",
       "      <td>18</td>\n",
       "      <td>3615338</td>\n",
       "      <td>3615338</td>\n",
       "      <td>A</td>\n",
       "      <td>G</td>\n",
       "    </tr>\n",
       "    <tr>\n",
       "      <th>6473181</th>\n",
       "      <td>12</td>\n",
       "      <td>51269554</td>\n",
       "      <td>51269554</td>\n",
       "      <td>A</td>\n",
       "      <td>C</td>\n",
       "    </tr>\n",
       "  </tbody>\n",
       "</table>\n",
       "</div>"
      ],
      "text/plain": [
       "          0          1          2  3  4\n",
       "1278172   2  152735331  152735331  T  G\n",
       "8058856  16   56792636   56792636  A  G\n",
       "3873700   6  161854735  161854735  T  C\n",
       "8621589  18    3615338    3615338  A  G\n",
       "6473181  12   51269554   51269554  A  C"
      ]
     },
     "execution_count": 209,
     "metadata": {},
     "output_type": "execute_result"
    }
   ],
   "source": [
    "humanDriven_coding_norfs.head()"
   ]
  },
  {
   "cell_type": "code",
   "execution_count": 210,
   "metadata": {},
   "outputs": [
    {
     "data": {
      "text/plain": [
       "(169909, 5)"
      ]
     },
     "execution_count": 210,
     "metadata": {},
     "output_type": "execute_result"
    }
   ],
   "source": [
    "humanDriven_coding_norfs.shape"
   ]
  },
  {
   "cell_type": "code",
   "execution_count": 211,
   "metadata": {},
   "outputs": [],
   "source": [
    "#saving the data \n",
    "compression_opts = dict(method='gzip',\n",
    "                        archive_name='benign_coding_only_hg38.vcf')  \n",
    "humanDriven_coding_norfs.to_csv('../../analysis/slectedVariantsmappedTonorfs/codingNorfs/benign/benign_coding_only_hg38.vcf.gz', index=False,\n",
    "                                                                          header= False, sep= \"\\t\", compression=compression_opts) "
   ]
  },
  {
   "cell_type": "code",
   "execution_count": null,
   "metadata": {},
   "outputs": [],
   "source": []
  },
  {
   "cell_type": "markdown",
   "metadata": {},
   "source": [
    "# noncoding norfs "
   ]
  },
  {
   "cell_type": "markdown",
   "metadata": {},
   "source": [
    "# pathogenic only "
   ]
  },
  {
   "cell_type": "code",
   "execution_count": 212,
   "metadata": {},
   "outputs": [],
   "source": [
    "hgmd_noncoding_norfs = pd.read_csv('../../analysis/variantsMappedOnnORFs/noncodingnorfs/hgmd_DM_only_mapped_to_noncoding_norfs_hg38.vcf.gz', compression='gzip', header= None,\n",
    "                         sep='\\t', error_bad_lines=False, )"
   ]
  },
  {
   "cell_type": "code",
   "execution_count": 213,
   "metadata": {},
   "outputs": [
    {
     "data": {
      "text/html": [
       "<div>\n",
       "<style scoped>\n",
       "    .dataframe tbody tr th:only-of-type {\n",
       "        vertical-align: middle;\n",
       "    }\n",
       "\n",
       "    .dataframe tbody tr th {\n",
       "        vertical-align: top;\n",
       "    }\n",
       "\n",
       "    .dataframe thead th {\n",
       "        text-align: right;\n",
       "    }\n",
       "</style>\n",
       "<table border=\"1\" class=\"dataframe\">\n",
       "  <thead>\n",
       "    <tr style=\"text-align: right;\">\n",
       "      <th></th>\n",
       "      <th>0</th>\n",
       "      <th>1</th>\n",
       "      <th>2</th>\n",
       "      <th>3</th>\n",
       "      <th>4</th>\n",
       "      <th>5</th>\n",
       "      <th>6</th>\n",
       "      <th>7</th>\n",
       "    </tr>\n",
       "  </thead>\n",
       "  <tbody>\n",
       "    <tr>\n",
       "      <th>0</th>\n",
       "      <td>1</td>\n",
       "      <td>25306730</td>\n",
       "      <td>CS165426</td>\n",
       "      <td>G</td>\n",
       "      <td>T</td>\n",
       "      <td>.</td>\n",
       "      <td>.</td>\n",
       "      <td>CLASS=DM;MUT=ALT;GENE=RHD;STRAND=+;DNA=NM_0161...</td>\n",
       "    </tr>\n",
       "    <tr>\n",
       "      <th>1</th>\n",
       "      <td>1</td>\n",
       "      <td>25316999</td>\n",
       "      <td>CS165427</td>\n",
       "      <td>G</td>\n",
       "      <td>A</td>\n",
       "      <td>.</td>\n",
       "      <td>.</td>\n",
       "      <td>CLASS=DM;MUT=ALT;GENE=RHD;STRAND=+;DNA=NM_0161...</td>\n",
       "    </tr>\n",
       "    <tr>\n",
       "      <th>2</th>\n",
       "      <td>1</td>\n",
       "      <td>25317010</td>\n",
       "      <td>CM165421</td>\n",
       "      <td>C</td>\n",
       "      <td>T</td>\n",
       "      <td>.</td>\n",
       "      <td>.</td>\n",
       "      <td>CLASS=DM;MUT=ALT;GENE=RHD;STRAND=+;DNA=NM_0161...</td>\n",
       "    </tr>\n",
       "    <tr>\n",
       "      <th>3</th>\n",
       "      <td>1</td>\n",
       "      <td>25321905</td>\n",
       "      <td>CD165423</td>\n",
       "      <td>TA</td>\n",
       "      <td>T</td>\n",
       "      <td>.</td>\n",
       "      <td>.</td>\n",
       "      <td>CLASS=DM;MUT=ALT;GENE=RHD;STRAND=+;DNA=NM_0161...</td>\n",
       "    </tr>\n",
       "    <tr>\n",
       "      <th>4</th>\n",
       "      <td>1</td>\n",
       "      <td>25321905</td>\n",
       "      <td>CD165423</td>\n",
       "      <td>TA</td>\n",
       "      <td>T</td>\n",
       "      <td>.</td>\n",
       "      <td>.</td>\n",
       "      <td>CLASS=DM;MUT=ALT;GENE=RHD;STRAND=+;DNA=NM_0161...</td>\n",
       "    </tr>\n",
       "  </tbody>\n",
       "</table>\n",
       "</div>"
      ],
      "text/plain": [
       "   0         1         2   3  4  5  6  \\\n",
       "0  1  25306730  CS165426   G  T  .  .   \n",
       "1  1  25316999  CS165427   G  A  .  .   \n",
       "2  1  25317010  CM165421   C  T  .  .   \n",
       "3  1  25321905  CD165423  TA  T  .  .   \n",
       "4  1  25321905  CD165423  TA  T  .  .   \n",
       "\n",
       "                                                   7  \n",
       "0  CLASS=DM;MUT=ALT;GENE=RHD;STRAND=+;DNA=NM_0161...  \n",
       "1  CLASS=DM;MUT=ALT;GENE=RHD;STRAND=+;DNA=NM_0161...  \n",
       "2  CLASS=DM;MUT=ALT;GENE=RHD;STRAND=+;DNA=NM_0161...  \n",
       "3  CLASS=DM;MUT=ALT;GENE=RHD;STRAND=+;DNA=NM_0161...  \n",
       "4  CLASS=DM;MUT=ALT;GENE=RHD;STRAND=+;DNA=NM_0161...  "
      ]
     },
     "execution_count": 213,
     "metadata": {},
     "output_type": "execute_result"
    }
   ],
   "source": [
    "hgmd_noncoding_norfs.head()"
   ]
  },
  {
   "cell_type": "code",
   "execution_count": 214,
   "metadata": {},
   "outputs": [
    {
     "data": {
      "text/plain": [
       "(154, 8)"
      ]
     },
     "execution_count": 214,
     "metadata": {},
     "output_type": "execute_result"
    }
   ],
   "source": [
    "hgmd_noncoding_norfs.shape"
   ]
  },
  {
   "cell_type": "code",
   "execution_count": 215,
   "metadata": {},
   "outputs": [],
   "source": [
    "clinvar_noncoding_norfs = pd.read_csv('../../analysis/variantsMappedOnnORFs/noncodingnorfs/clinvar_pathogenic_norf_noncoding_region.vcf.gz', compression='gzip', header= None,\n",
    "                         sep='\\t', error_bad_lines=False, )"
   ]
  },
  {
   "cell_type": "code",
   "execution_count": 216,
   "metadata": {},
   "outputs": [
    {
     "data": {
      "text/html": [
       "<div>\n",
       "<style scoped>\n",
       "    .dataframe tbody tr th:only-of-type {\n",
       "        vertical-align: middle;\n",
       "    }\n",
       "\n",
       "    .dataframe tbody tr th {\n",
       "        vertical-align: top;\n",
       "    }\n",
       "\n",
       "    .dataframe thead th {\n",
       "        text-align: right;\n",
       "    }\n",
       "</style>\n",
       "<table border=\"1\" class=\"dataframe\">\n",
       "  <thead>\n",
       "    <tr style=\"text-align: right;\">\n",
       "      <th></th>\n",
       "      <th>0</th>\n",
       "      <th>1</th>\n",
       "      <th>2</th>\n",
       "      <th>3</th>\n",
       "      <th>4</th>\n",
       "      <th>5</th>\n",
       "      <th>6</th>\n",
       "      <th>7</th>\n",
       "    </tr>\n",
       "  </thead>\n",
       "  <tbody>\n",
       "    <tr>\n",
       "      <th>0</th>\n",
       "      <td>2</td>\n",
       "      <td>44942392</td>\n",
       "      <td>489225</td>\n",
       "      <td>T</td>\n",
       "      <td>A</td>\n",
       "      <td>.</td>\n",
       "      <td>.</td>\n",
       "      <td>ALLELEID=481655;CLNDISDB=MedGen:CN517202;CLNDN...</td>\n",
       "    </tr>\n",
       "    <tr>\n",
       "      <th>1</th>\n",
       "      <td>2</td>\n",
       "      <td>44942443</td>\n",
       "      <td>6099</td>\n",
       "      <td>G</td>\n",
       "      <td>T</td>\n",
       "      <td>.</td>\n",
       "      <td>.</td>\n",
       "      <td>ALLELEID=21138;CLNDISDB=MedGen:C1834877,OMIM:1...</td>\n",
       "    </tr>\n",
       "    <tr>\n",
       "      <th>2</th>\n",
       "      <td>2</td>\n",
       "      <td>44942456</td>\n",
       "      <td>280334</td>\n",
       "      <td>GC</td>\n",
       "      <td>G</td>\n",
       "      <td>.</td>\n",
       "      <td>.</td>\n",
       "      <td>ALLELEID=264103;CLNDISDB=MedGen:CN517202;CLNDN...</td>\n",
       "    </tr>\n",
       "    <tr>\n",
       "      <th>3</th>\n",
       "      <td>2</td>\n",
       "      <td>121530916</td>\n",
       "      <td>218084</td>\n",
       "      <td>G</td>\n",
       "      <td>A</td>\n",
       "      <td>.</td>\n",
       "      <td>.</td>\n",
       "      <td>ALLELEID=214738;CLNDISDB=MedGen:C1846059,OMIM:...</td>\n",
       "    </tr>\n",
       "    <tr>\n",
       "      <th>4</th>\n",
       "      <td>2</td>\n",
       "      <td>121530929</td>\n",
       "      <td>30184</td>\n",
       "      <td>G</td>\n",
       "      <td>A</td>\n",
       "      <td>.</td>\n",
       "      <td>.</td>\n",
       "      <td>AF_EXAC=0.00009;ALLELEID=39140;CLNDISDB=MedGen...</td>\n",
       "    </tr>\n",
       "  </tbody>\n",
       "</table>\n",
       "</div>"
      ],
      "text/plain": [
       "   0          1       2   3  4  5  6  \\\n",
       "0  2   44942392  489225   T  A  .  .   \n",
       "1  2   44942443    6099   G  T  .  .   \n",
       "2  2   44942456  280334  GC  G  .  .   \n",
       "3  2  121530916  218084   G  A  .  .   \n",
       "4  2  121530929   30184   G  A  .  .   \n",
       "\n",
       "                                                   7  \n",
       "0  ALLELEID=481655;CLNDISDB=MedGen:CN517202;CLNDN...  \n",
       "1  ALLELEID=21138;CLNDISDB=MedGen:C1834877,OMIM:1...  \n",
       "2  ALLELEID=264103;CLNDISDB=MedGen:CN517202;CLNDN...  \n",
       "3  ALLELEID=214738;CLNDISDB=MedGen:C1846059,OMIM:...  \n",
       "4  AF_EXAC=0.00009;ALLELEID=39140;CLNDISDB=MedGen...  "
      ]
     },
     "execution_count": 216,
     "metadata": {},
     "output_type": "execute_result"
    }
   ],
   "source": [
    "clinvar_noncoding_norfs.head()"
   ]
  },
  {
   "cell_type": "code",
   "execution_count": 217,
   "metadata": {},
   "outputs": [
    {
     "data": {
      "text/plain": [
       "(235, 8)"
      ]
     },
     "execution_count": 217,
     "metadata": {},
     "output_type": "execute_result"
    }
   ],
   "source": [
    "clinvar_noncoding_norfs.shape"
   ]
  },
  {
   "cell_type": "code",
   "execution_count": 218,
   "metadata": {},
   "outputs": [],
   "source": [
    "pathogenic_noncoding = pd.concat([hgmd_noncoding_norfs[[0,1,2,3,4,5,6]],\n",
    "                               clinvar_noncoding_norfs[[0,1,2,3,4,5,6]]], ignore_index=True).drop_duplicates()"
   ]
  },
  {
   "cell_type": "code",
   "execution_count": 219,
   "metadata": {},
   "outputs": [
    {
     "data": {
      "text/html": [
       "<div>\n",
       "<style scoped>\n",
       "    .dataframe tbody tr th:only-of-type {\n",
       "        vertical-align: middle;\n",
       "    }\n",
       "\n",
       "    .dataframe tbody tr th {\n",
       "        vertical-align: top;\n",
       "    }\n",
       "\n",
       "    .dataframe thead th {\n",
       "        text-align: right;\n",
       "    }\n",
       "</style>\n",
       "<table border=\"1\" class=\"dataframe\">\n",
       "  <thead>\n",
       "    <tr style=\"text-align: right;\">\n",
       "      <th></th>\n",
       "      <th>0</th>\n",
       "      <th>1</th>\n",
       "      <th>2</th>\n",
       "      <th>3</th>\n",
       "      <th>4</th>\n",
       "      <th>5</th>\n",
       "      <th>6</th>\n",
       "    </tr>\n",
       "  </thead>\n",
       "  <tbody>\n",
       "    <tr>\n",
       "      <th>0</th>\n",
       "      <td>1</td>\n",
       "      <td>25306730</td>\n",
       "      <td>CS165426</td>\n",
       "      <td>G</td>\n",
       "      <td>T</td>\n",
       "      <td>.</td>\n",
       "      <td>.</td>\n",
       "    </tr>\n",
       "    <tr>\n",
       "      <th>1</th>\n",
       "      <td>1</td>\n",
       "      <td>25316999</td>\n",
       "      <td>CS165427</td>\n",
       "      <td>G</td>\n",
       "      <td>A</td>\n",
       "      <td>.</td>\n",
       "      <td>.</td>\n",
       "    </tr>\n",
       "    <tr>\n",
       "      <th>2</th>\n",
       "      <td>1</td>\n",
       "      <td>25317010</td>\n",
       "      <td>CM165421</td>\n",
       "      <td>C</td>\n",
       "      <td>T</td>\n",
       "      <td>.</td>\n",
       "      <td>.</td>\n",
       "    </tr>\n",
       "    <tr>\n",
       "      <th>3</th>\n",
       "      <td>1</td>\n",
       "      <td>25321905</td>\n",
       "      <td>CD165423</td>\n",
       "      <td>TA</td>\n",
       "      <td>T</td>\n",
       "      <td>.</td>\n",
       "      <td>.</td>\n",
       "    </tr>\n",
       "    <tr>\n",
       "      <th>5</th>\n",
       "      <td>2</td>\n",
       "      <td>44942375</td>\n",
       "      <td>CM122195</td>\n",
       "      <td>C</td>\n",
       "      <td>T</td>\n",
       "      <td>.</td>\n",
       "      <td>.</td>\n",
       "    </tr>\n",
       "  </tbody>\n",
       "</table>\n",
       "</div>"
      ],
      "text/plain": [
       "   0         1         2   3  4  5  6\n",
       "0  1  25306730  CS165426   G  T  .  .\n",
       "1  1  25316999  CS165427   G  A  .  .\n",
       "2  1  25317010  CM165421   C  T  .  .\n",
       "3  1  25321905  CD165423  TA  T  .  .\n",
       "5  2  44942375  CM122195   C  T  .  ."
      ]
     },
     "execution_count": 219,
     "metadata": {},
     "output_type": "execute_result"
    }
   ],
   "source": [
    "pathogenic_noncoding.head()"
   ]
  },
  {
   "cell_type": "code",
   "execution_count": 220,
   "metadata": {},
   "outputs": [
    {
     "data": {
      "text/plain": [
       "(303, 7)"
      ]
     },
     "execution_count": 220,
     "metadata": {},
     "output_type": "execute_result"
    }
   ],
   "source": [
    "pathogenic_noncoding.shape"
   ]
  },
  {
   "cell_type": "code",
   "execution_count": 221,
   "metadata": {},
   "outputs": [],
   "source": [
    "#saving the data \n",
    "compression_opts = dict(method='gzip',\n",
    "                        archive_name='pathogenic_noncoding_only_hg38.vcf')  \n",
    "pathogenic_noncoding.to_csv('../../analysis/slectedVariantsmappedTonorfs/noncodingNorfs/pathogenic/pathogenic_noncoding_only_hg38.vcf.gz', index=False,\n",
    "                                                                          header= False, sep= \"\\t\", compression=compression_opts) "
   ]
  },
  {
   "cell_type": "markdown",
   "metadata": {},
   "source": [
    "# benign only "
   ]
  },
  {
   "cell_type": "code",
   "execution_count": 222,
   "metadata": {},
   "outputs": [],
   "source": [
    "humanDriven_noncoding_norfs = pd.read_csv('../../analysis/variantsMappedOnnORFs/noncodingnorfs/humanDriven_noncoding_region_norfs.vcf.gz', compression='gzip',\n",
    "                                       header= None,sep='\\t', error_bad_lines=False ).drop_duplicates().sample(frac=0.003)"
   ]
  },
  {
   "cell_type": "code",
   "execution_count": 223,
   "metadata": {},
   "outputs": [
    {
     "data": {
      "text/html": [
       "<div>\n",
       "<style scoped>\n",
       "    .dataframe tbody tr th:only-of-type {\n",
       "        vertical-align: middle;\n",
       "    }\n",
       "\n",
       "    .dataframe tbody tr th {\n",
       "        vertical-align: top;\n",
       "    }\n",
       "\n",
       "    .dataframe thead th {\n",
       "        text-align: right;\n",
       "    }\n",
       "</style>\n",
       "<table border=\"1\" class=\"dataframe\">\n",
       "  <thead>\n",
       "    <tr style=\"text-align: right;\">\n",
       "      <th></th>\n",
       "      <th>0</th>\n",
       "      <th>1</th>\n",
       "      <th>2</th>\n",
       "      <th>3</th>\n",
       "      <th>4</th>\n",
       "    </tr>\n",
       "  </thead>\n",
       "  <tbody>\n",
       "    <tr>\n",
       "      <th>55505</th>\n",
       "      <td>4</td>\n",
       "      <td>129896441</td>\n",
       "      <td>129896441</td>\n",
       "      <td>T</td>\n",
       "      <td>C</td>\n",
       "    </tr>\n",
       "    <tr>\n",
       "      <th>189779</th>\n",
       "      <td>17</td>\n",
       "      <td>30745526</td>\n",
       "      <td>30745526</td>\n",
       "      <td>G</td>\n",
       "      <td>A</td>\n",
       "    </tr>\n",
       "    <tr>\n",
       "      <th>42906</th>\n",
       "      <td>3</td>\n",
       "      <td>91427470</td>\n",
       "      <td>91427470</td>\n",
       "      <td>G</td>\n",
       "      <td>A</td>\n",
       "    </tr>\n",
       "    <tr>\n",
       "      <th>178460</th>\n",
       "      <td>15</td>\n",
       "      <td>100738019</td>\n",
       "      <td>100738019</td>\n",
       "      <td>C</td>\n",
       "      <td>T</td>\n",
       "    </tr>\n",
       "    <tr>\n",
       "      <th>54579</th>\n",
       "      <td>4</td>\n",
       "      <td>116285985</td>\n",
       "      <td>116285985</td>\n",
       "      <td>T</td>\n",
       "      <td>C</td>\n",
       "    </tr>\n",
       "  </tbody>\n",
       "</table>\n",
       "</div>"
      ],
      "text/plain": [
       "         0          1          2  3  4\n",
       "55505    4  129896441  129896441  T  C\n",
       "189779  17   30745526   30745526  G  A\n",
       "42906    3   91427470   91427470  G  A\n",
       "178460  15  100738019  100738019  C  T\n",
       "54579    4  116285985  116285985  T  C"
      ]
     },
     "execution_count": 223,
     "metadata": {},
     "output_type": "execute_result"
    }
   ],
   "source": [
    "humanDriven_noncoding_norfs.head()"
   ]
  },
  {
   "cell_type": "code",
   "execution_count": 224,
   "metadata": {},
   "outputs": [
    {
     "data": {
      "text/plain": [
       "(487, 5)"
      ]
     },
     "execution_count": 224,
     "metadata": {},
     "output_type": "execute_result"
    }
   ],
   "source": [
    "humanDriven_noncoding_norfs.shape"
   ]
  },
  {
   "cell_type": "code",
   "execution_count": 225,
   "metadata": {},
   "outputs": [],
   "source": [
    "#saving the data \n",
    "compression_opts = dict(method='gzip',\n",
    "                        archive_name='benign_noncoding_only_hg38.vcf')  \n",
    "humanDriven_noncoding_norfs.to_csv('../../analysis/slectedVariantsmappedTonorfs/noncodingNorfs/benign/benign_noncoding_only_hg38.vcf.gz', index=False,\n",
    "                                                                          header= False, sep= \"\\t\", compression=compression_opts) "
   ]
  },
  {
   "cell_type": "markdown",
   "metadata": {},
   "source": [
    "# all norfs "
   ]
  },
  {
   "cell_type": "markdown",
   "metadata": {},
   "source": [
    "# pathogenic only "
   ]
  },
  {
   "cell_type": "code",
   "execution_count": 226,
   "metadata": {},
   "outputs": [
    {
     "name": "stderr",
     "output_type": "stream",
     "text": [
      "/home/narumeena/anaconda3/lib/python3.7/site-packages/IPython/core/interactiveshell.py:3058: DtypeWarning: Columns (0) have mixed types.Specify dtype option on import or set low_memory=False.\n",
      "  interactivity=interactivity, compiler=compiler, result=result)\n"
     ]
    }
   ],
   "source": [
    "hgmd_all_norfs = pd.read_csv('../../analysis/variantsMappedOnnORFs/allorfs/hgmd_DM_only_all_norfs_hg38.vcf.gz', compression='gzip', header= None,\n",
    "                         sep='\\t', error_bad_lines=False, )"
   ]
  },
  {
   "cell_type": "code",
   "execution_count": 227,
   "metadata": {},
   "outputs": [
    {
     "data": {
      "text/html": [
       "<div>\n",
       "<style scoped>\n",
       "    .dataframe tbody tr th:only-of-type {\n",
       "        vertical-align: middle;\n",
       "    }\n",
       "\n",
       "    .dataframe tbody tr th {\n",
       "        vertical-align: top;\n",
       "    }\n",
       "\n",
       "    .dataframe thead th {\n",
       "        text-align: right;\n",
       "    }\n",
       "</style>\n",
       "<table border=\"1\" class=\"dataframe\">\n",
       "  <thead>\n",
       "    <tr style=\"text-align: right;\">\n",
       "      <th></th>\n",
       "      <th>0</th>\n",
       "      <th>1</th>\n",
       "      <th>2</th>\n",
       "      <th>3</th>\n",
       "      <th>4</th>\n",
       "      <th>5</th>\n",
       "      <th>6</th>\n",
       "      <th>7</th>\n",
       "    </tr>\n",
       "  </thead>\n",
       "  <tbody>\n",
       "    <tr>\n",
       "      <th>0</th>\n",
       "      <td>1</td>\n",
       "      <td>943995</td>\n",
       "      <td>CM1613953</td>\n",
       "      <td>C</td>\n",
       "      <td>T</td>\n",
       "      <td>.</td>\n",
       "      <td>.</td>\n",
       "      <td>CLASS=DM;MUT=ALT;GENE=SAMD11;STRAND=+;DNA=NM_1...</td>\n",
       "    </tr>\n",
       "    <tr>\n",
       "      <th>1</th>\n",
       "      <td>1</td>\n",
       "      <td>943995</td>\n",
       "      <td>CM1613953</td>\n",
       "      <td>C</td>\n",
       "      <td>T</td>\n",
       "      <td>.</td>\n",
       "      <td>.</td>\n",
       "      <td>CLASS=DM;MUT=ALT;GENE=SAMD11;STRAND=+;DNA=NM_1...</td>\n",
       "    </tr>\n",
       "    <tr>\n",
       "      <th>2</th>\n",
       "      <td>1</td>\n",
       "      <td>943995</td>\n",
       "      <td>CM1613953</td>\n",
       "      <td>C</td>\n",
       "      <td>T</td>\n",
       "      <td>.</td>\n",
       "      <td>.</td>\n",
       "      <td>CLASS=DM;MUT=ALT;GENE=SAMD11;STRAND=+;DNA=NM_1...</td>\n",
       "    </tr>\n",
       "    <tr>\n",
       "      <th>3</th>\n",
       "      <td>1</td>\n",
       "      <td>943995</td>\n",
       "      <td>CM1613953</td>\n",
       "      <td>C</td>\n",
       "      <td>T</td>\n",
       "      <td>.</td>\n",
       "      <td>.</td>\n",
       "      <td>CLASS=DM;MUT=ALT;GENE=SAMD11;STRAND=+;DNA=NM_1...</td>\n",
       "    </tr>\n",
       "    <tr>\n",
       "      <th>4</th>\n",
       "      <td>1</td>\n",
       "      <td>943995</td>\n",
       "      <td>CM1613953</td>\n",
       "      <td>C</td>\n",
       "      <td>T</td>\n",
       "      <td>.</td>\n",
       "      <td>.</td>\n",
       "      <td>CLASS=DM;MUT=ALT;GENE=SAMD11;STRAND=+;DNA=NM_1...</td>\n",
       "    </tr>\n",
       "  </tbody>\n",
       "</table>\n",
       "</div>"
      ],
      "text/plain": [
       "   0       1          2  3  4  5  6  \\\n",
       "0  1  943995  CM1613953  C  T  .  .   \n",
       "1  1  943995  CM1613953  C  T  .  .   \n",
       "2  1  943995  CM1613953  C  T  .  .   \n",
       "3  1  943995  CM1613953  C  T  .  .   \n",
       "4  1  943995  CM1613953  C  T  .  .   \n",
       "\n",
       "                                                   7  \n",
       "0  CLASS=DM;MUT=ALT;GENE=SAMD11;STRAND=+;DNA=NM_1...  \n",
       "1  CLASS=DM;MUT=ALT;GENE=SAMD11;STRAND=+;DNA=NM_1...  \n",
       "2  CLASS=DM;MUT=ALT;GENE=SAMD11;STRAND=+;DNA=NM_1...  \n",
       "3  CLASS=DM;MUT=ALT;GENE=SAMD11;STRAND=+;DNA=NM_1...  \n",
       "4  CLASS=DM;MUT=ALT;GENE=SAMD11;STRAND=+;DNA=NM_1...  "
      ]
     },
     "execution_count": 227,
     "metadata": {},
     "output_type": "execute_result"
    }
   ],
   "source": [
    "hgmd_all_norfs.head()"
   ]
  },
  {
   "cell_type": "code",
   "execution_count": 228,
   "metadata": {},
   "outputs": [
    {
     "data": {
      "text/plain": [
       "(388925, 8)"
      ]
     },
     "execution_count": 228,
     "metadata": {},
     "output_type": "execute_result"
    }
   ],
   "source": [
    "hgmd_all_norfs.shape"
   ]
  },
  {
   "cell_type": "code",
   "execution_count": 229,
   "metadata": {},
   "outputs": [
    {
     "name": "stderr",
     "output_type": "stream",
     "text": [
      "/home/narumeena/anaconda3/lib/python3.7/site-packages/IPython/core/interactiveshell.py:3058: DtypeWarning: Columns (0) have mixed types.Specify dtype option on import or set low_memory=False.\n",
      "  interactivity=interactivity, compiler=compiler, result=result)\n"
     ]
    }
   ],
   "source": [
    "clinvar_all_norfs = pd.read_csv('../../analysis/variantsMappedOnnORFs/allorfs/clinvar_pathogenic_all_norf.vcf.gz', compression='gzip', header= None,\n",
    "                         sep='\\t', error_bad_lines=False, )"
   ]
  },
  {
   "cell_type": "code",
   "execution_count": 230,
   "metadata": {},
   "outputs": [
    {
     "data": {
      "text/html": [
       "<div>\n",
       "<style scoped>\n",
       "    .dataframe tbody tr th:only-of-type {\n",
       "        vertical-align: middle;\n",
       "    }\n",
       "\n",
       "    .dataframe tbody tr th {\n",
       "        vertical-align: top;\n",
       "    }\n",
       "\n",
       "    .dataframe thead th {\n",
       "        text-align: right;\n",
       "    }\n",
       "</style>\n",
       "<table border=\"1\" class=\"dataframe\">\n",
       "  <thead>\n",
       "    <tr style=\"text-align: right;\">\n",
       "      <th></th>\n",
       "      <th>0</th>\n",
       "      <th>1</th>\n",
       "      <th>2</th>\n",
       "      <th>3</th>\n",
       "      <th>4</th>\n",
       "      <th>5</th>\n",
       "      <th>6</th>\n",
       "      <th>7</th>\n",
       "    </tr>\n",
       "  </thead>\n",
       "  <tbody>\n",
       "    <tr>\n",
       "      <th>0</th>\n",
       "      <td>1</td>\n",
       "      <td>1014143</td>\n",
       "      <td>183381</td>\n",
       "      <td>C</td>\n",
       "      <td>T</td>\n",
       "      <td>.</td>\n",
       "      <td>.</td>\n",
       "      <td>ALLELEID=181485;CLNDISDB=MedGen:C4015293,OMIM:...</td>\n",
       "    </tr>\n",
       "    <tr>\n",
       "      <th>1</th>\n",
       "      <td>1</td>\n",
       "      <td>1014143</td>\n",
       "      <td>183381</td>\n",
       "      <td>C</td>\n",
       "      <td>T</td>\n",
       "      <td>.</td>\n",
       "      <td>.</td>\n",
       "      <td>ALLELEID=181485;CLNDISDB=MedGen:C4015293,OMIM:...</td>\n",
       "    </tr>\n",
       "    <tr>\n",
       "      <th>2</th>\n",
       "      <td>1</td>\n",
       "      <td>1022225</td>\n",
       "      <td>243036</td>\n",
       "      <td>G</td>\n",
       "      <td>A</td>\n",
       "      <td>.</td>\n",
       "      <td>.</td>\n",
       "      <td>AF_EXAC=0.00001;ALLELEID=244110;CLNDISDB=MedGe...</td>\n",
       "    </tr>\n",
       "    <tr>\n",
       "      <th>3</th>\n",
       "      <td>1</td>\n",
       "      <td>1022225</td>\n",
       "      <td>243036</td>\n",
       "      <td>G</td>\n",
       "      <td>A</td>\n",
       "      <td>.</td>\n",
       "      <td>.</td>\n",
       "      <td>AF_EXAC=0.00001;ALLELEID=244110;CLNDISDB=MedGe...</td>\n",
       "    </tr>\n",
       "    <tr>\n",
       "      <th>4</th>\n",
       "      <td>1</td>\n",
       "      <td>1022313</td>\n",
       "      <td>243037</td>\n",
       "      <td>A</td>\n",
       "      <td>T</td>\n",
       "      <td>.</td>\n",
       "      <td>.</td>\n",
       "      <td>ALLELEID=244111;CLNDISDB=MedGen:C0751882,Orpha...</td>\n",
       "    </tr>\n",
       "  </tbody>\n",
       "</table>\n",
       "</div>"
      ],
      "text/plain": [
       "   0        1       2  3  4  5  6  \\\n",
       "0  1  1014143  183381  C  T  .  .   \n",
       "1  1  1014143  183381  C  T  .  .   \n",
       "2  1  1022225  243036  G  A  .  .   \n",
       "3  1  1022225  243036  G  A  .  .   \n",
       "4  1  1022313  243037  A  T  .  .   \n",
       "\n",
       "                                                   7  \n",
       "0  ALLELEID=181485;CLNDISDB=MedGen:C4015293,OMIM:...  \n",
       "1  ALLELEID=181485;CLNDISDB=MedGen:C4015293,OMIM:...  \n",
       "2  AF_EXAC=0.00001;ALLELEID=244110;CLNDISDB=MedGe...  \n",
       "3  AF_EXAC=0.00001;ALLELEID=244110;CLNDISDB=MedGe...  \n",
       "4  ALLELEID=244111;CLNDISDB=MedGen:C0751882,Orpha...  "
      ]
     },
     "execution_count": 230,
     "metadata": {},
     "output_type": "execute_result"
    }
   ],
   "source": [
    "clinvar_all_norfs.head()"
   ]
  },
  {
   "cell_type": "code",
   "execution_count": 231,
   "metadata": {},
   "outputs": [
    {
     "data": {
      "text/plain": [
       "(177587, 8)"
      ]
     },
     "execution_count": 231,
     "metadata": {},
     "output_type": "execute_result"
    }
   ],
   "source": [
    "clinvar_all_norfs.shape"
   ]
  },
  {
   "cell_type": "code",
   "execution_count": 232,
   "metadata": {},
   "outputs": [],
   "source": [
    "pathogenic_all = pd.concat([hgmd_coding_norfs[[0,1,2,3,4,5,6]],\n",
    "                               clinvar_coding_norfs[[0,1,2,3,4,5,6]]], ignore_index=True).drop_duplicates()"
   ]
  },
  {
   "cell_type": "code",
   "execution_count": 233,
   "metadata": {},
   "outputs": [
    {
     "data": {
      "text/html": [
       "<div>\n",
       "<style scoped>\n",
       "    .dataframe tbody tr th:only-of-type {\n",
       "        vertical-align: middle;\n",
       "    }\n",
       "\n",
       "    .dataframe tbody tr th {\n",
       "        vertical-align: top;\n",
       "    }\n",
       "\n",
       "    .dataframe thead th {\n",
       "        text-align: right;\n",
       "    }\n",
       "</style>\n",
       "<table border=\"1\" class=\"dataframe\">\n",
       "  <thead>\n",
       "    <tr style=\"text-align: right;\">\n",
       "      <th></th>\n",
       "      <th>0</th>\n",
       "      <th>1</th>\n",
       "      <th>2</th>\n",
       "      <th>3</th>\n",
       "      <th>4</th>\n",
       "      <th>5</th>\n",
       "      <th>6</th>\n",
       "    </tr>\n",
       "  </thead>\n",
       "  <tbody>\n",
       "    <tr>\n",
       "      <th>0</th>\n",
       "      <td>1</td>\n",
       "      <td>943995</td>\n",
       "      <td>CM1613953</td>\n",
       "      <td>C</td>\n",
       "      <td>T</td>\n",
       "      <td>.</td>\n",
       "      <td>.</td>\n",
       "    </tr>\n",
       "    <tr>\n",
       "      <th>6</th>\n",
       "      <td>1</td>\n",
       "      <td>1014143</td>\n",
       "      <td>CM1411641</td>\n",
       "      <td>C</td>\n",
       "      <td>T</td>\n",
       "      <td>.</td>\n",
       "      <td>.</td>\n",
       "    </tr>\n",
       "    <tr>\n",
       "      <th>8</th>\n",
       "      <td>1</td>\n",
       "      <td>1022225</td>\n",
       "      <td>CM148517</td>\n",
       "      <td>G</td>\n",
       "      <td>A</td>\n",
       "      <td>.</td>\n",
       "      <td>.</td>\n",
       "    </tr>\n",
       "    <tr>\n",
       "      <th>10</th>\n",
       "      <td>1</td>\n",
       "      <td>1022313</td>\n",
       "      <td>CM148518</td>\n",
       "      <td>A</td>\n",
       "      <td>T</td>\n",
       "      <td>.</td>\n",
       "      <td>.</td>\n",
       "    </tr>\n",
       "    <tr>\n",
       "      <th>11</th>\n",
       "      <td>1</td>\n",
       "      <td>1041582</td>\n",
       "      <td>CM126385</td>\n",
       "      <td>C</td>\n",
       "      <td>T</td>\n",
       "      <td>.</td>\n",
       "      <td>.</td>\n",
       "    </tr>\n",
       "  </tbody>\n",
       "</table>\n",
       "</div>"
      ],
      "text/plain": [
       "    0        1          2  3  4  5  6\n",
       "0   1   943995  CM1613953  C  T  .  .\n",
       "6   1  1014143  CM1411641  C  T  .  .\n",
       "8   1  1022225   CM148517  G  A  .  .\n",
       "10  1  1022313   CM148518  A  T  .  .\n",
       "11  1  1041582   CM126385  C  T  .  ."
      ]
     },
     "execution_count": 233,
     "metadata": {},
     "output_type": "execute_result"
    }
   ],
   "source": [
    "pathogenic_all.head()"
   ]
  },
  {
   "cell_type": "code",
   "execution_count": 234,
   "metadata": {},
   "outputs": [
    {
     "data": {
      "text/plain": [
       "(165034, 7)"
      ]
     },
     "execution_count": 234,
     "metadata": {},
     "output_type": "execute_result"
    }
   ],
   "source": [
    "pathogenic_all.shape"
   ]
  },
  {
   "cell_type": "code",
   "execution_count": 235,
   "metadata": {},
   "outputs": [],
   "source": [
    "#saving the data \n",
    "compression_opts = dict(method='gzip',\n",
    "                        archive_name='pathogenic_all_hg38.vcf')  \n",
    "pathogenic_all.to_csv('../../analysis/slectedVariantsmappedTonorfs/allNorfs/pathogenic/pathogenic_all_hg38.vcf.gz', index=False,\n",
    "                                                                          header= False, sep= \"\\t\", compression=compression_opts) "
   ]
  },
  {
   "cell_type": "markdown",
   "metadata": {},
   "source": [
    "# benign only "
   ]
  },
  {
   "cell_type": "code",
   "execution_count": 240,
   "metadata": {},
   "outputs": [],
   "source": [
    "humanDriven_all_norfs = pd.read_csv('../../analysis/variantsMappedOnnORFs/allorfs/humanDriven_all_norfs.vcf.gz', compression='gzip', header= None,\n",
    "                         sep='\\t', error_bad_lines=False ).drop_duplicates().sample(frac=0.043)"
   ]
  },
  {
   "cell_type": "code",
   "execution_count": 241,
   "metadata": {},
   "outputs": [
    {
     "data": {
      "text/html": [
       "<div>\n",
       "<style scoped>\n",
       "    .dataframe tbody tr th:only-of-type {\n",
       "        vertical-align: middle;\n",
       "    }\n",
       "\n",
       "    .dataframe tbody tr th {\n",
       "        vertical-align: top;\n",
       "    }\n",
       "\n",
       "    .dataframe thead th {\n",
       "        text-align: right;\n",
       "    }\n",
       "</style>\n",
       "<table border=\"1\" class=\"dataframe\">\n",
       "  <thead>\n",
       "    <tr style=\"text-align: right;\">\n",
       "      <th></th>\n",
       "      <th>0</th>\n",
       "      <th>1</th>\n",
       "      <th>2</th>\n",
       "      <th>3</th>\n",
       "      <th>4</th>\n",
       "    </tr>\n",
       "  </thead>\n",
       "  <tbody>\n",
       "    <tr>\n",
       "      <th>1032876</th>\n",
       "      <td>2</td>\n",
       "      <td>63619587</td>\n",
       "      <td>63619587</td>\n",
       "      <td>A</td>\n",
       "      <td>C</td>\n",
       "    </tr>\n",
       "    <tr>\n",
       "      <th>1520952</th>\n",
       "      <td>2</td>\n",
       "      <td>207536004</td>\n",
       "      <td>207536004</td>\n",
       "      <td>A</td>\n",
       "      <td>G</td>\n",
       "    </tr>\n",
       "    <tr>\n",
       "      <th>8194093</th>\n",
       "      <td>16</td>\n",
       "      <td>27755929</td>\n",
       "      <td>27755929</td>\n",
       "      <td>A</td>\n",
       "      <td>G</td>\n",
       "    </tr>\n",
       "    <tr>\n",
       "      <th>1870283</th>\n",
       "      <td>3</td>\n",
       "      <td>42969854</td>\n",
       "      <td>42969854</td>\n",
       "      <td>C</td>\n",
       "      <td>G</td>\n",
       "    </tr>\n",
       "    <tr>\n",
       "      <th>2653114</th>\n",
       "      <td>4</td>\n",
       "      <td>95490713</td>\n",
       "      <td>95490713</td>\n",
       "      <td>G</td>\n",
       "      <td>A</td>\n",
       "    </tr>\n",
       "  </tbody>\n",
       "</table>\n",
       "</div>"
      ],
      "text/plain": [
       "          0          1          2  3  4\n",
       "1032876   2   63619587   63619587  A  C\n",
       "1520952   2  207536004  207536004  A  G\n",
       "8194093  16   27755929   27755929  A  G\n",
       "1870283   3   42969854   42969854  C  G\n",
       "2653114   4   95490713   95490713  G  A"
      ]
     },
     "execution_count": 241,
     "metadata": {},
     "output_type": "execute_result"
    }
   ],
   "source": [
    "humanDriven_all_norfs.head()"
   ]
  },
  {
   "cell_type": "code",
   "execution_count": 242,
   "metadata": {},
   "outputs": [
    {
     "data": {
      "text/plain": [
       "(168906, 5)"
      ]
     },
     "execution_count": 242,
     "metadata": {},
     "output_type": "execute_result"
    }
   ],
   "source": [
    "humanDriven_all_norfs.shape"
   ]
  },
  {
   "cell_type": "code",
   "execution_count": 243,
   "metadata": {},
   "outputs": [],
   "source": [
    "#saving the data \n",
    "compression_opts = dict(method='gzip',\n",
    "                        archive_name='benign_all_hg38.vcf')  \n",
    "humanDriven_all_norfs.to_csv('../../analysis/slectedVariantsmappedTonorfs/allNorfs/benign/benign_all_hg38.vcf.gz', index=False,\n",
    "                                                                          header= False, sep= \"\\t\", compression=compression_opts) "
   ]
  },
  {
   "cell_type": "code",
   "execution_count": null,
   "metadata": {},
   "outputs": [],
   "source": []
  },
  {
   "cell_type": "code",
   "execution_count": null,
   "metadata": {},
   "outputs": [],
   "source": []
  }
 ],
 "metadata": {
  "kernelspec": {
   "display_name": "Python 3",
   "language": "python",
   "name": "python3"
  },
  "language_info": {
   "codemirror_mode": {
    "name": "ipython",
    "version": 3
   },
   "file_extension": ".py",
   "mimetype": "text/x-python",
   "name": "python",
   "nbconvert_exporter": "python",
   "pygments_lexer": "ipython3",
   "version": "3.7.4"
  }
 },
 "nbformat": 4,
 "nbformat_minor": 4
}
